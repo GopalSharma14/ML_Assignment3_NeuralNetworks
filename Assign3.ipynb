{
 "cells": [
  {
   "cell_type": "markdown",
   "metadata": {},
   "source": [
    "# Assignment #3 - Neural Networks\n",
    "\n",
    "### <font color=\"red\"> DUE: Nov 12 (Tuesday) 11:00 pm </font>  "
   ]
  },
  {
   "cell_type": "markdown",
   "metadata": {},
   "source": [
    "<font color=\"blue\"> Gopal Sharma </font>"
   ]
  },
  {
   "cell_type": "markdown",
   "metadata": {},
   "source": [
    "# I. Overview\n",
    "\n",
    "The objective of the assignment is to use NeuralNet class for regression and implement on regression data used in assignment 1. I will be explaining 5-fold cross validation and will be finding a good neural network and reporting the CV accuracies. I will be summarising the non linear regression model. I will also be summarising nonlinear logistic regression model and will be completing the nonlinear logistic regression class code. I will be applying this code on my classification data."
   ]
  },
  {
   "cell_type": "markdown",
   "metadata": {},
   "source": [
    "# II. Data\n",
    "\n",
    "The dataset is taken from the repository of Kaggle. \n",
    "Since 2008, guests and hosts have used Airbnb to expand on traveling possibilities and present more unique, personalized way of experiencing the world. This dataset describes the listing activity and metrics in NYC, NY for 2019. This data file includes all needed information to find out more about hosts, geographical availability, necessary metrics to make predictions and draw conclusions.\n",
    "\n",
    "1. id, the listing ids\n",
    "2. name, Name of the listing\n",
    "3. host_id, id of the host\n",
    "4. host_name, name of the host\n",
    "5. neighbourhood_group, location of the listing\n",
    "6. neighbourhood, area of the location\n",
    "7. latitude, coordinates of the location\n",
    "8. longitude, coordinates of the location\n",
    "9. room_type, listing space type\n",
    "10. price, price in dollars\n",
    "11. minimum_nights, amount of nights minimum\n",
    "12. number_of_reviews, # of reviews for the location\n",
    "13. last_review, latest review of the location\n",
    "14. reviews_per_month, # of reviews per month\n",
    "15. calculated_host_listings_count, amount of listing per host\n",
    "16. availability_365, number of days when listing is available for booking"
   ]
  },
  {
   "cell_type": "code",
   "execution_count": 234,
   "metadata": {},
   "outputs": [],
   "source": [
    "import numpy as np\n",
    "import pandas as pd\n",
    "import seaborn as sns\n",
    "import matplotlib.pyplot as plt\n",
    "%matplotlib inline\n",
    "plt.rcParams['figure.figsize'] = (12.0, 9.0)"
   ]
  },
  {
   "cell_type": "code",
   "execution_count": 235,
   "metadata": {},
   "outputs": [
    {
     "data": {
      "text/html": [
       "<div>\n",
       "<style scoped>\n",
       "    .dataframe tbody tr th:only-of-type {\n",
       "        vertical-align: middle;\n",
       "    }\n",
       "\n",
       "    .dataframe tbody tr th {\n",
       "        vertical-align: top;\n",
       "    }\n",
       "\n",
       "    .dataframe thead th {\n",
       "        text-align: right;\n",
       "    }\n",
       "</style>\n",
       "<table border=\"1\" class=\"dataframe\">\n",
       "  <thead>\n",
       "    <tr style=\"text-align: right;\">\n",
       "      <th></th>\n",
       "      <th>id</th>\n",
       "      <th>name</th>\n",
       "      <th>host_id</th>\n",
       "      <th>host_name</th>\n",
       "      <th>neighbourhood_group</th>\n",
       "      <th>neighbourhood</th>\n",
       "      <th>latitude</th>\n",
       "      <th>longitude</th>\n",
       "      <th>room_type</th>\n",
       "      <th>price</th>\n",
       "      <th>minimum_nights</th>\n",
       "      <th>number_of_reviews</th>\n",
       "      <th>last_review</th>\n",
       "      <th>reviews_per_month</th>\n",
       "      <th>calculated_host_listings_count</th>\n",
       "      <th>availability_365</th>\n",
       "    </tr>\n",
       "  </thead>\n",
       "  <tbody>\n",
       "    <tr>\n",
       "      <th>0</th>\n",
       "      <td>2539</td>\n",
       "      <td>Clean &amp; quiet apt home by the park</td>\n",
       "      <td>2787</td>\n",
       "      <td>John</td>\n",
       "      <td>Brooklyn</td>\n",
       "      <td>Kensington</td>\n",
       "      <td>40.64749</td>\n",
       "      <td>-73.97237</td>\n",
       "      <td>Private room</td>\n",
       "      <td>149</td>\n",
       "      <td>1</td>\n",
       "      <td>9</td>\n",
       "      <td>2018-10-19</td>\n",
       "      <td>0.21</td>\n",
       "      <td>6</td>\n",
       "      <td>365</td>\n",
       "    </tr>\n",
       "    <tr>\n",
       "      <th>1</th>\n",
       "      <td>2595</td>\n",
       "      <td>Skylit Midtown Castle</td>\n",
       "      <td>2845</td>\n",
       "      <td>Jennifer</td>\n",
       "      <td>Manhattan</td>\n",
       "      <td>Midtown</td>\n",
       "      <td>40.75362</td>\n",
       "      <td>-73.98377</td>\n",
       "      <td>Entire home/apt</td>\n",
       "      <td>225</td>\n",
       "      <td>1</td>\n",
       "      <td>45</td>\n",
       "      <td>2019-05-21</td>\n",
       "      <td>0.38</td>\n",
       "      <td>2</td>\n",
       "      <td>355</td>\n",
       "    </tr>\n",
       "    <tr>\n",
       "      <th>2</th>\n",
       "      <td>3647</td>\n",
       "      <td>THE VILLAGE OF HARLEM....NEW YORK !</td>\n",
       "      <td>4632</td>\n",
       "      <td>Elisabeth</td>\n",
       "      <td>Manhattan</td>\n",
       "      <td>Harlem</td>\n",
       "      <td>40.80902</td>\n",
       "      <td>-73.94190</td>\n",
       "      <td>Private room</td>\n",
       "      <td>150</td>\n",
       "      <td>3</td>\n",
       "      <td>0</td>\n",
       "      <td>NaN</td>\n",
       "      <td>NaN</td>\n",
       "      <td>1</td>\n",
       "      <td>365</td>\n",
       "    </tr>\n",
       "    <tr>\n",
       "      <th>3</th>\n",
       "      <td>3831</td>\n",
       "      <td>Cozy Entire Floor of Brownstone</td>\n",
       "      <td>4869</td>\n",
       "      <td>LisaRoxanne</td>\n",
       "      <td>Brooklyn</td>\n",
       "      <td>Clinton Hill</td>\n",
       "      <td>40.68514</td>\n",
       "      <td>-73.95976</td>\n",
       "      <td>Entire home/apt</td>\n",
       "      <td>89</td>\n",
       "      <td>1</td>\n",
       "      <td>270</td>\n",
       "      <td>2019-07-05</td>\n",
       "      <td>4.64</td>\n",
       "      <td>1</td>\n",
       "      <td>194</td>\n",
       "    </tr>\n",
       "    <tr>\n",
       "      <th>4</th>\n",
       "      <td>5022</td>\n",
       "      <td>Entire Apt: Spacious Studio/Loft by central park</td>\n",
       "      <td>7192</td>\n",
       "      <td>Laura</td>\n",
       "      <td>Manhattan</td>\n",
       "      <td>East Harlem</td>\n",
       "      <td>40.79851</td>\n",
       "      <td>-73.94399</td>\n",
       "      <td>Entire home/apt</td>\n",
       "      <td>80</td>\n",
       "      <td>10</td>\n",
       "      <td>9</td>\n",
       "      <td>2018-11-19</td>\n",
       "      <td>0.10</td>\n",
       "      <td>1</td>\n",
       "      <td>0</td>\n",
       "    </tr>\n",
       "  </tbody>\n",
       "</table>\n",
       "</div>"
      ],
      "text/plain": [
       "     id                                              name  host_id  \\\n",
       "0  2539                Clean & quiet apt home by the park     2787   \n",
       "1  2595                             Skylit Midtown Castle     2845   \n",
       "2  3647               THE VILLAGE OF HARLEM....NEW YORK !     4632   \n",
       "3  3831                   Cozy Entire Floor of Brownstone     4869   \n",
       "4  5022  Entire Apt: Spacious Studio/Loft by central park     7192   \n",
       "\n",
       "     host_name neighbourhood_group neighbourhood  latitude  longitude  \\\n",
       "0         John            Brooklyn    Kensington  40.64749  -73.97237   \n",
       "1     Jennifer           Manhattan       Midtown  40.75362  -73.98377   \n",
       "2    Elisabeth           Manhattan        Harlem  40.80902  -73.94190   \n",
       "3  LisaRoxanne            Brooklyn  Clinton Hill  40.68514  -73.95976   \n",
       "4        Laura           Manhattan   East Harlem  40.79851  -73.94399   \n",
       "\n",
       "         room_type  price  minimum_nights  number_of_reviews last_review  \\\n",
       "0     Private room    149               1                  9  2018-10-19   \n",
       "1  Entire home/apt    225               1                 45  2019-05-21   \n",
       "2     Private room    150               3                  0         NaN   \n",
       "3  Entire home/apt     89               1                270  2019-07-05   \n",
       "4  Entire home/apt     80              10                  9  2018-11-19   \n",
       "\n",
       "   reviews_per_month  calculated_host_listings_count  availability_365  \n",
       "0               0.21                               6               365  \n",
       "1               0.38                               2               355  \n",
       "2                NaN                               1               365  \n",
       "3               4.64                               1               194  \n",
       "4               0.10                               1                 0  "
      ]
     },
     "execution_count": 235,
     "metadata": {},
     "output_type": "execute_result"
    }
   ],
   "source": [
    "df= pd.read_csv('AB_NYC_2019.csv')\n",
    "df.head()"
   ]
  },
  {
   "cell_type": "code",
   "execution_count": 236,
   "metadata": {},
   "outputs": [
    {
     "data": {
      "text/plain": [
       "id                                  int64\n",
       "name                               object\n",
       "host_id                             int64\n",
       "host_name                          object\n",
       "neighbourhood_group                object\n",
       "neighbourhood                      object\n",
       "latitude                          float64\n",
       "longitude                         float64\n",
       "room_type                          object\n",
       "price                               int64\n",
       "minimum_nights                      int64\n",
       "number_of_reviews                   int64\n",
       "last_review                        object\n",
       "reviews_per_month                 float64\n",
       "calculated_host_listings_count      int64\n",
       "availability_365                    int64\n",
       "dtype: object"
      ]
     },
     "execution_count": 236,
     "metadata": {},
     "output_type": "execute_result"
    }
   ],
   "source": [
    "df.dtypes"
   ]
  },
  {
   "cell_type": "code",
   "execution_count": 237,
   "metadata": {},
   "outputs": [
    {
     "data": {
      "text/html": [
       "<div>\n",
       "<style scoped>\n",
       "    .dataframe tbody tr th:only-of-type {\n",
       "        vertical-align: middle;\n",
       "    }\n",
       "\n",
       "    .dataframe tbody tr th {\n",
       "        vertical-align: top;\n",
       "    }\n",
       "\n",
       "    .dataframe thead th {\n",
       "        text-align: right;\n",
       "    }\n",
       "</style>\n",
       "<table border=\"1\" class=\"dataframe\">\n",
       "  <thead>\n",
       "    <tr style=\"text-align: right;\">\n",
       "      <th></th>\n",
       "      <th>host_id</th>\n",
       "      <th>neighbourhood_group</th>\n",
       "      <th>latitude</th>\n",
       "      <th>longitude</th>\n",
       "      <th>room_type</th>\n",
       "      <th>price</th>\n",
       "      <th>minimum_nights</th>\n",
       "      <th>number_of_reviews</th>\n",
       "      <th>reviews_per_month</th>\n",
       "      <th>calculated_host_listings_count</th>\n",
       "      <th>availability_365</th>\n",
       "    </tr>\n",
       "  </thead>\n",
       "  <tbody>\n",
       "    <tr>\n",
       "      <th>0</th>\n",
       "      <td>2787</td>\n",
       "      <td>Brooklyn</td>\n",
       "      <td>40.64749</td>\n",
       "      <td>-73.97237</td>\n",
       "      <td>Private room</td>\n",
       "      <td>149</td>\n",
       "      <td>1</td>\n",
       "      <td>9</td>\n",
       "      <td>0.21</td>\n",
       "      <td>6</td>\n",
       "      <td>365</td>\n",
       "    </tr>\n",
       "    <tr>\n",
       "      <th>1</th>\n",
       "      <td>2845</td>\n",
       "      <td>Manhattan</td>\n",
       "      <td>40.75362</td>\n",
       "      <td>-73.98377</td>\n",
       "      <td>Entire home/apt</td>\n",
       "      <td>225</td>\n",
       "      <td>1</td>\n",
       "      <td>45</td>\n",
       "      <td>0.38</td>\n",
       "      <td>2</td>\n",
       "      <td>355</td>\n",
       "    </tr>\n",
       "    <tr>\n",
       "      <th>2</th>\n",
       "      <td>4632</td>\n",
       "      <td>Manhattan</td>\n",
       "      <td>40.80902</td>\n",
       "      <td>-73.94190</td>\n",
       "      <td>Private room</td>\n",
       "      <td>150</td>\n",
       "      <td>3</td>\n",
       "      <td>0</td>\n",
       "      <td>NaN</td>\n",
       "      <td>1</td>\n",
       "      <td>365</td>\n",
       "    </tr>\n",
       "    <tr>\n",
       "      <th>3</th>\n",
       "      <td>4869</td>\n",
       "      <td>Brooklyn</td>\n",
       "      <td>40.68514</td>\n",
       "      <td>-73.95976</td>\n",
       "      <td>Entire home/apt</td>\n",
       "      <td>89</td>\n",
       "      <td>1</td>\n",
       "      <td>270</td>\n",
       "      <td>4.64</td>\n",
       "      <td>1</td>\n",
       "      <td>194</td>\n",
       "    </tr>\n",
       "    <tr>\n",
       "      <th>4</th>\n",
       "      <td>7192</td>\n",
       "      <td>Manhattan</td>\n",
       "      <td>40.79851</td>\n",
       "      <td>-73.94399</td>\n",
       "      <td>Entire home/apt</td>\n",
       "      <td>80</td>\n",
       "      <td>10</td>\n",
       "      <td>9</td>\n",
       "      <td>0.10</td>\n",
       "      <td>1</td>\n",
       "      <td>0</td>\n",
       "    </tr>\n",
       "  </tbody>\n",
       "</table>\n",
       "</div>"
      ],
      "text/plain": [
       "   host_id neighbourhood_group  latitude  longitude        room_type  price  \\\n",
       "0     2787            Brooklyn  40.64749  -73.97237     Private room    149   \n",
       "1     2845           Manhattan  40.75362  -73.98377  Entire home/apt    225   \n",
       "2     4632           Manhattan  40.80902  -73.94190     Private room    150   \n",
       "3     4869            Brooklyn  40.68514  -73.95976  Entire home/apt     89   \n",
       "4     7192           Manhattan  40.79851  -73.94399  Entire home/apt     80   \n",
       "\n",
       "   minimum_nights  number_of_reviews  reviews_per_month  \\\n",
       "0               1                  9               0.21   \n",
       "1               1                 45               0.38   \n",
       "2               3                  0                NaN   \n",
       "3               1                270               4.64   \n",
       "4              10                  9               0.10   \n",
       "\n",
       "   calculated_host_listings_count  availability_365  \n",
       "0                               6               365  \n",
       "1                               2               355  \n",
       "2                               1               365  \n",
       "3                               1               194  \n",
       "4                               1                 0  "
      ]
     },
     "execution_count": 237,
     "metadata": {},
     "output_type": "execute_result"
    }
   ],
   "source": [
    "df.drop(['id','name','host_name','neighbourhood','last_review'], axis=1, inplace=True)\n",
    "df.head(5)"
   ]
  },
  {
   "cell_type": "code",
   "execution_count": 238,
   "metadata": {},
   "outputs": [],
   "source": [
    "# Replacing NaN values with 0\n",
    "df.fillna({'reviews_per_month':0}, inplace=True)"
   ]
  },
  {
   "cell_type": "code",
   "execution_count": 239,
   "metadata": {},
   "outputs": [],
   "source": [
    "from sklearn.preprocessing import LabelEncoder\n",
    "le = LabelEncoder()\n",
    "le.fit(df['room_type'])\n",
    "df['room_type']=le.transform(df['room_type'])\n",
    "le.fit(df['neighbourhood_group'])\n",
    "df['neighbourhood_group']=le.transform(df['neighbourhood_group'])"
   ]
  },
  {
   "cell_type": "code",
   "execution_count": 240,
   "metadata": {},
   "outputs": [
    {
     "data": {
      "text/html": [
       "<div>\n",
       "<style scoped>\n",
       "    .dataframe tbody tr th:only-of-type {\n",
       "        vertical-align: middle;\n",
       "    }\n",
       "\n",
       "    .dataframe tbody tr th {\n",
       "        vertical-align: top;\n",
       "    }\n",
       "\n",
       "    .dataframe thead th {\n",
       "        text-align: right;\n",
       "    }\n",
       "</style>\n",
       "<table border=\"1\" class=\"dataframe\">\n",
       "  <thead>\n",
       "    <tr style=\"text-align: right;\">\n",
       "      <th></th>\n",
       "      <th>host_id</th>\n",
       "      <th>neighbourhood_group</th>\n",
       "      <th>latitude</th>\n",
       "      <th>longitude</th>\n",
       "      <th>room_type</th>\n",
       "      <th>price</th>\n",
       "      <th>minimum_nights</th>\n",
       "      <th>number_of_reviews</th>\n",
       "      <th>reviews_per_month</th>\n",
       "      <th>calculated_host_listings_count</th>\n",
       "      <th>availability_365</th>\n",
       "    </tr>\n",
       "  </thead>\n",
       "  <tbody>\n",
       "    <tr>\n",
       "      <th>0</th>\n",
       "      <td>2787</td>\n",
       "      <td>1</td>\n",
       "      <td>40.64749</td>\n",
       "      <td>-73.97237</td>\n",
       "      <td>1</td>\n",
       "      <td>149</td>\n",
       "      <td>1</td>\n",
       "      <td>9</td>\n",
       "      <td>0.21</td>\n",
       "      <td>6</td>\n",
       "      <td>365</td>\n",
       "    </tr>\n",
       "    <tr>\n",
       "      <th>1</th>\n",
       "      <td>2845</td>\n",
       "      <td>2</td>\n",
       "      <td>40.75362</td>\n",
       "      <td>-73.98377</td>\n",
       "      <td>0</td>\n",
       "      <td>225</td>\n",
       "      <td>1</td>\n",
       "      <td>45</td>\n",
       "      <td>0.38</td>\n",
       "      <td>2</td>\n",
       "      <td>355</td>\n",
       "    </tr>\n",
       "    <tr>\n",
       "      <th>2</th>\n",
       "      <td>4632</td>\n",
       "      <td>2</td>\n",
       "      <td>40.80902</td>\n",
       "      <td>-73.94190</td>\n",
       "      <td>1</td>\n",
       "      <td>150</td>\n",
       "      <td>3</td>\n",
       "      <td>0</td>\n",
       "      <td>0.00</td>\n",
       "      <td>1</td>\n",
       "      <td>365</td>\n",
       "    </tr>\n",
       "    <tr>\n",
       "      <th>3</th>\n",
       "      <td>4869</td>\n",
       "      <td>1</td>\n",
       "      <td>40.68514</td>\n",
       "      <td>-73.95976</td>\n",
       "      <td>0</td>\n",
       "      <td>89</td>\n",
       "      <td>1</td>\n",
       "      <td>270</td>\n",
       "      <td>4.64</td>\n",
       "      <td>1</td>\n",
       "      <td>194</td>\n",
       "    </tr>\n",
       "    <tr>\n",
       "      <th>4</th>\n",
       "      <td>7192</td>\n",
       "      <td>2</td>\n",
       "      <td>40.79851</td>\n",
       "      <td>-73.94399</td>\n",
       "      <td>0</td>\n",
       "      <td>80</td>\n",
       "      <td>10</td>\n",
       "      <td>9</td>\n",
       "      <td>0.10</td>\n",
       "      <td>1</td>\n",
       "      <td>0</td>\n",
       "    </tr>\n",
       "  </tbody>\n",
       "</table>\n",
       "</div>"
      ],
      "text/plain": [
       "   host_id  neighbourhood_group  latitude  longitude  room_type  price  \\\n",
       "0     2787                    1  40.64749  -73.97237          1    149   \n",
       "1     2845                    2  40.75362  -73.98377          0    225   \n",
       "2     4632                    2  40.80902  -73.94190          1    150   \n",
       "3     4869                    1  40.68514  -73.95976          0     89   \n",
       "4     7192                    2  40.79851  -73.94399          0     80   \n",
       "\n",
       "   minimum_nights  number_of_reviews  reviews_per_month  \\\n",
       "0               1                  9               0.21   \n",
       "1               1                 45               0.38   \n",
       "2               3                  0               0.00   \n",
       "3               1                270               4.64   \n",
       "4              10                  9               0.10   \n",
       "\n",
       "   calculated_host_listings_count  availability_365  \n",
       "0                               6               365  \n",
       "1                               2               355  \n",
       "2                               1               365  \n",
       "3                               1               194  \n",
       "4                               1                 0  "
      ]
     },
     "execution_count": 240,
     "metadata": {},
     "output_type": "execute_result"
    }
   ],
   "source": [
    "df.head()"
   ]
  },
  {
   "cell_type": "code",
   "execution_count": 241,
   "metadata": {},
   "outputs": [
    {
     "data": {
      "text/plain": [
       "(48895, 1)"
      ]
     },
     "execution_count": 241,
     "metadata": {},
     "output_type": "execute_result"
    }
   ],
   "source": [
    "df_target=pd.DataFrame(df.iloc[:,5])\n",
    "df_target.shape"
   ]
  },
  {
   "cell_type": "code",
   "execution_count": 242,
   "metadata": {},
   "outputs": [
    {
     "data": {
      "text/plain": [
       "(48895, 11)"
      ]
     },
     "execution_count": 242,
     "metadata": {},
     "output_type": "execute_result"
    }
   ],
   "source": [
    "df.shape"
   ]
  },
  {
   "cell_type": "markdown",
   "metadata": {},
   "source": [
    "### Plots to visualize the data"
   ]
  },
  {
   "cell_type": "code",
   "execution_count": 243,
   "metadata": {},
   "outputs": [
    {
     "data": {
      "text/plain": [
       "array([[<matplotlib.axes._subplots.AxesSubplot object at 0x0000022B12CBB358>,\n",
       "        <matplotlib.axes._subplots.AxesSubplot object at 0x0000022B12CEA550>,\n",
       "        <matplotlib.axes._subplots.AxesSubplot object at 0x0000022B12E46A20>],\n",
       "       [<matplotlib.axes._subplots.AxesSubplot object at 0x0000022B14BB5FD0>,\n",
       "        <matplotlib.axes._subplots.AxesSubplot object at 0x0000022B14BED5C0>,\n",
       "        <matplotlib.axes._subplots.AxesSubplot object at 0x0000022B14C1AB70>],\n",
       "       [<matplotlib.axes._subplots.AxesSubplot object at 0x0000022B14C56160>,\n",
       "        <matplotlib.axes._subplots.AxesSubplot object at 0x0000022B14C87748>,\n",
       "        <matplotlib.axes._subplots.AxesSubplot object at 0x0000022B14C87780>],\n",
       "       [<matplotlib.axes._subplots.AxesSubplot object at 0x0000022B14CF92B0>,\n",
       "        <matplotlib.axes._subplots.AxesSubplot object at 0x0000022B16438860>,\n",
       "        <matplotlib.axes._subplots.AxesSubplot object at 0x0000022B1646BE10>]],\n",
       "      dtype=object)"
      ]
     },
     "execution_count": 243,
     "metadata": {},
     "output_type": "execute_result"
    },
    {
     "data": {
      "image/png": "[encoded data removed]",
      "text/plain": [
       "<Figure size 720x1080 with 12 Axes>"
      ]
     },
     "metadata": {
      "needs_background": "light"
     },
     "output_type": "display_data"
    }
   ],
   "source": [
    "df.hist(bins = 20 , figsize= (10,15))"
   ]
  },
  {
   "cell_type": "code",
   "execution_count": 244,
   "metadata": {},
   "outputs": [
    {
     "data": {
      "image/png": "[encoded data removed]",
      "text/plain": [
       "<Figure size 864x648 with 1 Axes>"
      ]
     },
     "metadata": {
      "needs_background": "light"
     },
     "output_type": "display_data"
    }
   ],
   "source": [
    "sns.lineplot(x='availability_365',y='price',data=df)\n",
    "plt.show()"
   ]
  },
  {
   "cell_type": "code",
   "execution_count": 245,
   "metadata": {},
   "outputs": [
    {
     "data": {
      "image/png": "[encoded data removed]",
      "text/plain": [
       "<Figure size 576x576 with 1 Axes>"
      ]
     },
     "metadata": {
      "needs_background": "light"
     },
     "output_type": "display_data"
    }
   ],
   "source": [
    "plt.figure(figsize=(8,8))\n",
    "axis = sns.countplot(df[\"neighbourhood_group\"])"
   ]
  },
  {
   "cell_type": "markdown",
   "metadata": {},
   "source": [
    "This plot signifies that the majority of the listings of AirBnB are in Brooklyn and Manhattan."
   ]
  },
  {
   "cell_type": "code",
   "execution_count": 246,
   "metadata": {},
   "outputs": [
    {
     "data": {
      "image/png": "[encoded data removed]",
      "text/plain": [
       "<Figure size 576x576 with 1 Axes>"
      ]
     },
     "metadata": {
      "needs_background": "light"
     },
     "output_type": "display_data"
    }
   ],
   "source": [
    "plt.figure(figsize=(8,8))\n",
    "a = sns.countplot(df['neighbourhood_group'],hue=df['room_type'])"
   ]
  },
  {
   "cell_type": "markdown",
   "metadata": {},
   "source": [
    "The above plot signifies that the Entire Home/Apartment are listed near Manhattan while Private Rooms near Brooklyn are almost same. "
   ]
  },
  {
   "cell_type": "code",
   "execution_count": 247,
   "metadata": {},
   "outputs": [
    {
     "data": {
      "image/png": "[encoded data removed]",
      "text/plain": [
       "<Figure size 864x648 with 1 Axes>"
      ]
     },
     "metadata": {
      "needs_background": "light"
     },
     "output_type": "display_data"
    }
   ],
   "source": [
    "price_of_rooms = df.groupby([\"room_type\"])['price'].aggregate(np.median).reset_index().sort_values('price')\n",
    "sns.barplot(x='room_type', y=\"price\", data=df, order=result['room_type'])\n",
    "plt.show()"
   ]
  },
  {
   "cell_type": "markdown",
   "metadata": {},
   "source": [
    "### Reading and Analysing the plots"
   ]
  },
  {
   "cell_type": "markdown",
   "metadata": {},
   "source": [
    "Following are my observations about the dataset:\n",
    "\n",
    "1. Majority of the listings of of Airbnb are in Brooklyn and Manhattan.\n",
    "2. Entire Home/Apartment are listed near Manhattan while Private Rooms near Brooklyn are almost same. \n",
    "3. Entire Home/ Apartment are the costliest among all the room types\n",
    "4. Most of the listings are Entire home/ apartments and private rooms."
   ]
  },
  {
   "cell_type": "markdown",
   "metadata": {},
   "source": [
    "## Summary of Cross Validation"
   ]
  },
  {
   "cell_type": "markdown",
   "metadata": {},
   "source": [
    "Since there is never enough data to train any model, removing any of it we risk losing important trends. So we divide the training data into several parts and each and every part is selected in turn as the testing data. For each k = 1,2,...K, the model with parameter lambda is fit to the other K − 1 parts, and the error is computed in predicting the last part. This is repeated for many values of lambda and the lambda value that makes CV the smallest is chosen. In this assignment, I've used 5 fold cross validation."
   ]
  },
  {
   "cell_type": "markdown",
   "metadata": {},
   "source": [
    "## Summary of Nonlinear Regression"
   ]
  },
  {
   "cell_type": "markdown",
   "metadata": {},
   "source": [
    "Nonlinear regression is a form of regression analysis in which data is fit to a model. Simple linear regression relates two variables and gives a straight line y = mx + c while nonlinear regression will generate a curve. The main aim of the model is to make the sum of the squares as small as possible. The sum of squares is used to check how our observations are varying from the mean of the data set. The smaller the sum of these squared figures, the better the function fits the data points in the set."
   ]
  },
  {
   "cell_type": "markdown",
   "metadata": {},
   "source": [
    "# Neural Network"
   ]
  },
  {
   "cell_type": "code",
   "execution_count": 248,
   "metadata": {},
   "outputs": [],
   "source": [
    "# standardization class\n",
    "class Standardizer: \n",
    "    \"\"\" class version of standardization \"\"\"\n",
    "    def __init__(self, X, explore=False):\n",
    "        self._mu = np.mean(X,0)  \n",
    "        self._sigma = np.std(X,0)\n",
    "        if explore:\n",
    "            print (\"mean: \", self._mu)\n",
    "            print (\"sigma: \", self._sigma)\n",
    "            print (\"min: \", np.min(X,0))\n",
    "            print (\"max: \", np.max(X,0))\n",
    "\n",
    "    def set_sigma(self, s):\n",
    "        self._sigma[:] = s\n",
    "\n",
    "    def standardize(self,X):\n",
    "        return (X - self._mu) / self._sigma \n",
    "\n",
    "    def unstandardize(self,X):\n",
    "        return (X * self._sigma) + self._mu"
   ]
  },
  {
   "cell_type": "code",
   "execution_count": 249,
   "metadata": {},
   "outputs": [],
   "source": [
    "from grad import scg, steepest\n",
    "from copy import copy\n",
    "from util import Standardizer\n",
    "\n",
    "\n",
    "class NeuralNet:\n",
    "    \"\"\" neural network class for regression\n",
    "        \n",
    "        Parameters\n",
    "        ----------\n",
    "        nunits: list\n",
    "            the number of inputs, hidden units, and outputs\n",
    "\n",
    "        Methods\n",
    "        -------\n",
    "        set_hunit    \n",
    "            update/initiate weights\n",
    "\n",
    "        pack \n",
    "            pack multiple weights of each layer into one vector\n",
    "\n",
    "        forward\n",
    "            forward processing of neural network\n",
    "\n",
    "        backward\n",
    "            back-propagation of neural network\n",
    "\n",
    "        train\n",
    "            train the neural network\n",
    "\n",
    "        use\n",
    "            appply the trained network for prediction\n",
    "\n",
    "        Attributes\n",
    "        ----------\n",
    "        _nLayers\n",
    "            the number of hidden unit layers \n",
    "\n",
    "        rho\n",
    "            learning rate\n",
    "\n",
    "        _W\n",
    "            weights\n",
    "        _weights\n",
    "            weights in one dimension (_W is referencing _weight)\n",
    "\n",
    "        stdX\n",
    "            standardization class for data\n",
    "        stdT\n",
    "            standardization class for target\n",
    "\n",
    "        Notes\n",
    "        -----\n",
    "        \n",
    "    \"\"\"\n",
    "\n",
    "    def __init__(self, nunits):\n",
    "\n",
    "        self._nLayers=len(nunits)-1\n",
    "        self.rho = [1] * self._nLayers\n",
    "        self._W = []\n",
    "        wdims = []\n",
    "        lenweights = 0\n",
    "        for i in range(self._nLayers):\n",
    "            nwr = nunits[i] + 1\n",
    "            nwc = nunits[i+1]\n",
    "            wdims.append((nwr, nwc))\n",
    "            lenweights = lenweights + nwr * nwc\n",
    "\n",
    "        self._weights = np.random.uniform(-0.1,0.1, lenweights) \n",
    "        start = 0  # fixed index error 20110107\n",
    "        for i in range(self._nLayers):\n",
    "            end = start + wdims[i][0] * wdims[i][1] \n",
    "            self._W.append(self._weights[start:end])\n",
    "            self._W[i].resize(wdims[i])\n",
    "            start = end\n",
    "\n",
    "        self.stdX = None\n",
    "        self.stdT = None\n",
    "        self.stdTarget = True\n",
    "\n",
    "    def add_ones(self, w):\n",
    "        return np.hstack((np.ones((w.shape[0], 1)), w))\n",
    "\n",
    "    def get_nlayers(self):\n",
    "        return self._nLayers\n",
    "\n",
    "    def set_hunit(self, w):\n",
    "        for i in range(self._nLayers-1):\n",
    "            if w[i].shape != self._W[i].shape:\n",
    "                print(\"set_hunit: shapes do not match!\")\n",
    "                break\n",
    "            else:\n",
    "                self._W[i][:] = w[i][:]\n",
    "\n",
    "    def pack(self, w):\n",
    "        return np.hstack(map(np.ravel, w))\n",
    "\n",
    "    def unpack(self, weights):\n",
    "        self._weights[:] = weights[:]  # unpack\n",
    "\n",
    "    def cp_weight(self):\n",
    "        return copy(self._weights)\n",
    "\n",
    "    def RBF(self, X, m=None,s=None):\n",
    "        if m is None: m = np.mean(X)\n",
    "        if s is None: s = 2 #np.std(X)\n",
    "        r = 1. / (np.sqrt(2*np.pi)* s)  \n",
    "        return r * np.exp(-(X - m) ** 2 / (2 * s ** 2))\n",
    "\n",
    "    def forward(self,X):\n",
    "        t = X \n",
    "        Z = []\n",
    "\n",
    "        for i in range(self._nLayers):\n",
    "            Z.append(t) \n",
    "            if i == self._nLayers - 1:\n",
    "                t = np.dot(self.add_ones(t), self._W[i])\n",
    "            else:\n",
    "                t = np.tanh(np.dot(self.add_ones(t), self._W[i]))\n",
    "                #t = self.RBF(np.dot(np.hstack((np.ones((t.shape[0],1)),t)),self._W[i]))\n",
    "        return (t, Z)\n",
    "        \n",
    "    def backward(self, error, Z, T, lmb=0):\n",
    "        delta = error\n",
    "        N = T.size\n",
    "        dws = []\n",
    "        for i in range(self._nLayers - 1, -1, -1):\n",
    "            rh = float(self.rho[i]) / N\n",
    "            if i==0:\n",
    "                lmbterm = 0\n",
    "            else:\n",
    "                lmbterm = lmb * np.vstack((np.zeros((1, self._W[i].shape[1])),\n",
    "                            self._W[i][1:,]))\n",
    "            dws.insert(0,(-rh * np.dot(self.add_ones(Z[i]).T, delta) + lmbterm))\n",
    "            if i != 0:\n",
    "                delta = np.dot(delta, self._W[i][1:, :].T) * (1 - Z[i]**2)\n",
    "        return self.pack(dws)\n",
    "\n",
    "    def _errorf(self, T, Y):\n",
    "        return T - Y\n",
    "        \n",
    "    def _objectf(self, T, Y, wpenalty):\n",
    "        return 0.5 * np.mean(np.square(T - Y)) + wpenalty\n",
    "\n",
    "    def train(self, X, T, **params):\n",
    "\n",
    "        verbose = params.pop('verbose', False)\n",
    "        # training parameters\n",
    "        _lambda = params.pop('Lambda', 0.)\n",
    "\n",
    "        #parameters for scg\n",
    "        niter = params.pop('niter', 1000)\n",
    "        wprecision = params.pop('wprecision', 1e-10)\n",
    "        fprecision = params.pop('fprecision', 1e-10)\n",
    "        wtracep = params.pop('wtracep', False)\n",
    "        ftracep = params.pop('ftracep', False)\n",
    "\n",
    "        # optimization\n",
    "        optim = params.pop('optim', 'scg')\n",
    "\n",
    "        if self.stdX == None:\n",
    "            explore = params.pop('explore', False)\n",
    "            self.stdX = Standardizer(X, explore)\n",
    "        Xs = self.stdX.standardize(X)\n",
    "        if self.stdT == None and self.stdTarget:\n",
    "            self.stdT = Standardizer(T)\n",
    "            T = self.stdT.standardize(T)\n",
    "        \n",
    "        def gradientf(weights):\n",
    "            self.unpack(weights)\n",
    "            Y,Z = self.forward(Xs)\n",
    "            error = self._errorf(T, Y)\n",
    "            return self.backward(error, Z, T, _lambda)\n",
    "            \n",
    "        def optimtargetf(weights):\n",
    "            \"\"\" optimization target function : MSE \n",
    "            \"\"\"\n",
    "            self.unpack(weights)\n",
    "            #self._weights[:] = weights[:]  # unpack\n",
    "            Y,_ = self.forward(Xs)\n",
    "            Wnb=np.array([])\n",
    "            for i in range(self._nLayers):\n",
    "                if len(Wnb)==0: Wnb=self._W[i][1:,].reshape(self._W[i].size-self._W[i][0,].size,1)\n",
    "                else: Wnb = np.vstack((Wnb,self._W[i][1:,].reshape(self._W[i].size-self._W[i][0,].size,1)))\n",
    "            wpenalty = _lambda * np.dot(Wnb.flat ,Wnb.flat)\n",
    "            return self._objectf(T, Y, wpenalty)\n",
    "\n",
    "        if optim == 'scg':\n",
    "            result = scg(self.cp_weight(), gradientf, optimtargetf,\n",
    "                                        wPrecision=wprecision, fPrecision=fprecision, \n",
    "                                        nIterations=niter,\n",
    "                                        wtracep=wtracep, ftracep=ftracep,\n",
    "                                        verbose=False)\n",
    "            self.unpack(result['w'][:])\n",
    "            self.f = result['f']\n",
    "        elif optim == 'steepest':\n",
    "            result = steepest(self.cp_weight(), gradientf, optimtargetf,\n",
    "                                nIterations=niter,\n",
    "                                xPrecision=wprecision, fPrecision=fprecision,\n",
    "                                xtracep=wtracep, ftracep=ftracep )\n",
    "            self.unpack(result['w'][:])\n",
    "        if ftracep:\n",
    "            self.ftrace = result['ftrace']\n",
    "        if 'reason' in result.keys() and verbose:\n",
    "            print(result['reason'])\n",
    "\n",
    "        return result\n",
    "\n",
    "    def use(self, X, retZ=False):\n",
    "        if self.stdX:\n",
    "            Xs = self.stdX.standardize(X)\n",
    "        else:\n",
    "            Xs = X\n",
    "        Y, Z = self.forward(Xs)\n",
    "        if self.stdT is not None:\n",
    "            Y = self.stdT.unstandardize(Y)\n",
    "        if retZ:\n",
    "            return Y, Z\n",
    "        return Y"
   ]
  },
  {
   "cell_type": "markdown",
   "metadata": {},
   "source": [
    "## Explanation of Codes"
   ]
  },
  {
   "cell_type": "markdown",
   "metadata": {},
   "source": [
    "The two classes that are defined are Standardizer class and NeuralNet class.\n",
    "\n",
    "1. The Standardizer class normalizes all the values.<br> <br>\n",
    "\n",
    "2. NeuralNet class builds the neural network that learns the data through feed forward and back propagation.<br> <br>\n",
    "\n",
    "3. The Pack function is used to pack multiple weights of each layer into one vector. The unpack function does the opposite of it. <br> <br>\n",
    "\n",
    "4. Forward pass in neural network propagates as shown below:<br> <br>\n",
    "\n",
    "\n",
    "$$\n",
    "\\begin{align}\n",
    "Z &amp;= h(Xl \\cdot V) \\\\\n",
    "\\\\\n",
    "Y &amp; = Zl \\cdot W \n",
    "\\end{align}\n",
    "$$\n",
    "\n",
    "5. The train function takes the feautures and the target as the input. The gradientf unpacks the weights,proceeds with the forward pass by calling forward function. Now error is calculated using results of forward pass. <br> <br>\n",
    "\n",
    "6. The optimtarget function reduces the error by using the object function and updates the weights accordingly.<br> <br>\n",
    "\n",
    "7. The use function is used for testing the data after training the model. Testing data is passed as parameter and it stadardizes the data. Then forward is applied on the data which returns the predictions. <br> <br>"
   ]
  },
  {
   "cell_type": "code",
   "execution_count": 250,
   "metadata": {},
   "outputs": [],
   "source": [
    "from sklearn.metrics import mean_squared_error"
   ]
  },
  {
   "cell_type": "markdown",
   "metadata": {},
   "source": [
    "# Cross Validation"
   ]
  },
  {
   "cell_type": "code",
   "execution_count": 251,
   "metadata": {},
   "outputs": [],
   "source": [
    "#Splits into parts of 20% of whole data. So myList will give five 20% of 100% of data\n",
    "def split(data):\n",
    "    part = len(data) / 5.0\n",
    "    mylistofdata = []\n",
    "    x = 0.0\n",
    "    #Iterate through the length of s and keep on appending to myList so we've like 5 parts now and return the list\n",
    "    while x < len(data):\n",
    "        mylistofdata.append(data[int(x):int(x + part)])\n",
    "        x += part\n",
    "    return mylistofdata\n",
    "\n",
    "best_prm_list=[]\n",
    "final_list=[]\n",
    "\n",
    "def cross_validate(X, T, parameters):\n",
    "    #Call Split and get the data partitioned\n",
    "    X_part = split(X)\n",
    "    T_part = split(T)\n",
    "    \n",
    "    #This loop iterates through all the 5 parts..so each i is like test data for the paritioned dataset \n",
    "    for i in range(5): \n",
    "        print(\"Test number: \",i)\n",
    "        X_tst = X_part[i]\n",
    "        T_tst = T_part[i]\n",
    "\n",
    "        history_rmse=[]\n",
    "        params=[] \n",
    "        #best_param\n",
    "        \n",
    "        #k is the validation part of the 5 parts\n",
    "        for k in range(5): \n",
    "            print(\"K is : \",k)\n",
    "            if i == k: \n",
    "                continue \n",
    "            \n",
    "            #Another 20% of data used\n",
    "            X_val = X_part[k]\n",
    "            T_val = T_part[k]\n",
    "            \n",
    "            #Train will be those which is not test and validation part. The remaining 60% of data of 100%\n",
    "            X_trn = X_part[not i and not k]\n",
    "            T_trn = T_part[not i and not k]\n",
    "            \n",
    "            #m = 0\n",
    "            paramlist=[]\n",
    "            rmselist=[]\n",
    "            for param in parameters:\n",
    "                \n",
    "                model = NeuralNet(param)\n",
    "                model.train(X_trn, T_trn)\n",
    "                pred = model.use(X_val)\n",
    "                \n",
    "                valid_err = np.sqrt(mean_squared_error(T_val, pred))\n",
    "                rmselist.append(valid_err)\n",
    "                paramlist.append(param)\n",
    "                \n",
    "            print(paramlist)\n",
    "            print(rmselist)\n",
    "            print(min(rmselist))\n",
    "            print(paramlist[np.argmin(rmselist)])\n",
    "            history_rmse.append(min(rmselist))\n",
    "            params.append(paramlist[np.argmin(rmselist)])\n",
    "         \n",
    "        print(params)\n",
    "        print(history_rmse)\n",
    "        print(paramlist[np.argmin(history_rmse)])\n",
    "        best_param=paramlist[np.argmin(history_rmse)]\n",
    "        best_model = NeuralNet(best_param)\n",
    "        \n",
    "        X_trn = X_part[not i]\n",
    "        T_trn = T_part[not i]\n",
    "        best_model.train(X_trn, T_trn)\n",
    "\n",
    "        final_pred = best_model.use(X_tst)\n",
    "        final_err = np.sqrt(mean_squared_error(T_tst, final_pred))\n",
    "        final_list.append(final_err)\n",
    "        best_prm_list.append(best_param)\n",
    "\n",
    "    return final_list,best_prm_list"
   ]
  },
  {
   "cell_type": "markdown",
   "metadata": {},
   "source": [
    "## Explanation of Codes"
   ]
  },
  {
   "cell_type": "markdown",
   "metadata": {},
   "source": [
    "The cross_validate function takes X that has the sample, T which has the target values of the samples and model parameters which is taken as input. This function returns final_list and best_prm_list. The data is divided into 5 partitions using split function. X_part and T_part are used to store the partitions. Each element of these lists are 20% of the original data size. <br><br>\n",
    "Split function is dividing the data into partitions. Here it will partition parts of 20% of whole data. So myListofdata will give five 20% of 100% of data. We iterate through the length of s (data) and keep on appending to myListofdata so we've like 5 parts now and we will return the list.<br><br>\n",
    "k is the validation part of the 5 parts. Excluding k and i the rest data is our training set.\n",
    "\n",
    "In each validation loop we are training data with our different parameters passed and evaluating on validation data. Each parameter returns rmse value and this is appended to rmselist, parameters respective to that rmse are appended into paramlist to keep track of indices. Now after each validation we are selecting the parameter that produced minimum rmse value and storing the results into history_rmse and params list.\n",
    "\n",
    "From this history_rmse list we are picking one with best results. Now the model is retrained with the best parameter param in parameters and the model is applied to test set. This test accuracy is appended to final_list and parameters are appended to best_paramlist. This operation runs for 5 folds and cross validate function returns final_list and best_prm_list which are best Accuracies of each test and best Params of each test.\n",
    "\n",
    "From this results we choose the parameters that is repeated more number of times in best_prm_list."
   ]
  },
  {
   "cell_type": "markdown",
   "metadata": {},
   "source": [
    "## Presentation of CV Result"
   ]
  },
  {
   "cell_type": "code",
   "execution_count": 252,
   "metadata": {},
   "outputs": [
    {
     "name": "stdout",
     "output_type": "stream",
     "text": [
      "Test number:  0\n",
      "K is :  0\n",
      "K is :  1\n"
     ]
    },
    {
     "name": "stderr",
     "output_type": "stream",
     "text": [
      "C:\\Users\\Gopal\\Anaconda3\\lib\\site-packages\\ipykernel_launcher.py:97: FutureWarning: arrays to stack must be passed as a \"sequence\" type such as list or tuple. Support for non-sequence iterables such as generators is deprecated as of NumPy 1.16 and will raise an error in the future.\n",
      "C:\\Users\\Gopal\\Anaconda3\\lib\\site-packages\\ipykernel_launcher.py:97: FutureWarning: arrays to stack must be passed as a \"sequence\" type such as list or tuple. Support for non-sequence iterables such as generators is deprecated as of NumPy 1.16 and will raise an error in the future.\n",
      "C:\\Users\\Gopal\\Anaconda3\\lib\\site-packages\\ipykernel_launcher.py:97: FutureWarning: arrays to stack must be passed as a \"sequence\" type such as list or tuple. Support for non-sequence iterables such as generators is deprecated as of NumPy 1.16 and will raise an error in the future.\n",
      "C:\\Users\\Gopal\\Anaconda3\\lib\\site-packages\\ipykernel_launcher.py:97: FutureWarning: arrays to stack must be passed as a \"sequence\" type such as list or tuple. Support for non-sequence iterables such as generators is deprecated as of NumPy 1.16 and will raise an error in the future.\n",
      "C:\\Users\\Gopal\\Anaconda3\\lib\\site-packages\\ipykernel_launcher.py:97: FutureWarning: arrays to stack must be passed as a \"sequence\" type such as list or tuple. Support for non-sequence iterables such as generators is deprecated as of NumPy 1.16 and will raise an error in the future.\n"
     ]
    },
    {
     "name": "stdout",
     "output_type": "stream",
     "text": [
      "[[11, 3, 1], [11, 5, 1], [11, 7, 1], [11, 10, 1], [11, 12, 1]]\n",
      "[10.610644084298993, 10.974904390204813, 6.791952235775226, 5.6780202293745266, 9.173339368785545]\n",
      "5.6780202293745266\n",
      "[11, 10, 1]\n",
      "K is :  2\n"
     ]
    },
    {
     "name": "stderr",
     "output_type": "stream",
     "text": [
      "C:\\Users\\Gopal\\Anaconda3\\lib\\site-packages\\ipykernel_launcher.py:97: FutureWarning: arrays to stack must be passed as a \"sequence\" type such as list or tuple. Support for non-sequence iterables such as generators is deprecated as of NumPy 1.16 and will raise an error in the future.\n",
      "C:\\Users\\Gopal\\Anaconda3\\lib\\site-packages\\ipykernel_launcher.py:97: FutureWarning: arrays to stack must be passed as a \"sequence\" type such as list or tuple. Support for non-sequence iterables such as generators is deprecated as of NumPy 1.16 and will raise an error in the future.\n",
      "C:\\Users\\Gopal\\Anaconda3\\lib\\site-packages\\ipykernel_launcher.py:97: FutureWarning: arrays to stack must be passed as a \"sequence\" type such as list or tuple. Support for non-sequence iterables such as generators is deprecated as of NumPy 1.16 and will raise an error in the future.\n",
      "C:\\Users\\Gopal\\Anaconda3\\lib\\site-packages\\ipykernel_launcher.py:97: FutureWarning: arrays to stack must be passed as a \"sequence\" type such as list or tuple. Support for non-sequence iterables such as generators is deprecated as of NumPy 1.16 and will raise an error in the future.\n",
      "C:\\Users\\Gopal\\Anaconda3\\lib\\site-packages\\ipykernel_launcher.py:97: FutureWarning: arrays to stack must be passed as a \"sequence\" type such as list or tuple. Support for non-sequence iterables such as generators is deprecated as of NumPy 1.16 and will raise an error in the future.\n"
     ]
    },
    {
     "name": "stdout",
     "output_type": "stream",
     "text": [
      "[[11, 3, 1], [11, 5, 1], [11, 7, 1], [11, 10, 1], [11, 12, 1]]\n",
      "[11.311522123339804, 8.83583625834638, 16.96549754691054, 12.149993836761562, 9.797816920267362]\n",
      "8.83583625834638\n",
      "[11, 5, 1]\n",
      "K is :  3\n"
     ]
    },
    {
     "name": "stderr",
     "output_type": "stream",
     "text": [
      "C:\\Users\\Gopal\\Anaconda3\\lib\\site-packages\\ipykernel_launcher.py:97: FutureWarning: arrays to stack must be passed as a \"sequence\" type such as list or tuple. Support for non-sequence iterables such as generators is deprecated as of NumPy 1.16 and will raise an error in the future.\n",
      "C:\\Users\\Gopal\\Anaconda3\\lib\\site-packages\\ipykernel_launcher.py:97: FutureWarning: arrays to stack must be passed as a \"sequence\" type such as list or tuple. Support for non-sequence iterables such as generators is deprecated as of NumPy 1.16 and will raise an error in the future.\n",
      "C:\\Users\\Gopal\\Anaconda3\\lib\\site-packages\\ipykernel_launcher.py:97: FutureWarning: arrays to stack must be passed as a \"sequence\" type such as list or tuple. Support for non-sequence iterables such as generators is deprecated as of NumPy 1.16 and will raise an error in the future.\n",
      "C:\\Users\\Gopal\\Anaconda3\\lib\\site-packages\\ipykernel_launcher.py:97: FutureWarning: arrays to stack must be passed as a \"sequence\" type such as list or tuple. Support for non-sequence iterables such as generators is deprecated as of NumPy 1.16 and will raise an error in the future.\n",
      "C:\\Users\\Gopal\\Anaconda3\\lib\\site-packages\\ipykernel_launcher.py:97: FutureWarning: arrays to stack must be passed as a \"sequence\" type such as list or tuple. Support for non-sequence iterables such as generators is deprecated as of NumPy 1.16 and will raise an error in the future.\n"
     ]
    },
    {
     "name": "stdout",
     "output_type": "stream",
     "text": [
      "[[11, 3, 1], [11, 5, 1], [11, 7, 1], [11, 10, 1], [11, 12, 1]]\n",
      "[16.43790365719602, 18.929390458640388, 22.610834715809748, 40.3822814250749, 21.11930938514743]\n",
      "16.43790365719602\n",
      "[11, 3, 1]\n",
      "K is :  4\n"
     ]
    },
    {
     "name": "stderr",
     "output_type": "stream",
     "text": [
      "C:\\Users\\Gopal\\Anaconda3\\lib\\site-packages\\ipykernel_launcher.py:97: FutureWarning: arrays to stack must be passed as a \"sequence\" type such as list or tuple. Support for non-sequence iterables such as generators is deprecated as of NumPy 1.16 and will raise an error in the future.\n",
      "C:\\Users\\Gopal\\Anaconda3\\lib\\site-packages\\ipykernel_launcher.py:97: FutureWarning: arrays to stack must be passed as a \"sequence\" type such as list or tuple. Support for non-sequence iterables such as generators is deprecated as of NumPy 1.16 and will raise an error in the future.\n",
      "C:\\Users\\Gopal\\Anaconda3\\lib\\site-packages\\ipykernel_launcher.py:97: FutureWarning: arrays to stack must be passed as a \"sequence\" type such as list or tuple. Support for non-sequence iterables such as generators is deprecated as of NumPy 1.16 and will raise an error in the future.\n",
      "C:\\Users\\Gopal\\Anaconda3\\lib\\site-packages\\ipykernel_launcher.py:97: FutureWarning: arrays to stack must be passed as a \"sequence\" type such as list or tuple. Support for non-sequence iterables such as generators is deprecated as of NumPy 1.16 and will raise an error in the future.\n",
      "C:\\Users\\Gopal\\Anaconda3\\lib\\site-packages\\ipykernel_launcher.py:97: FutureWarning: arrays to stack must be passed as a \"sequence\" type such as list or tuple. Support for non-sequence iterables such as generators is deprecated as of NumPy 1.16 and will raise an error in the future.\n"
     ]
    },
    {
     "name": "stdout",
     "output_type": "stream",
     "text": [
      "[[11, 3, 1], [11, 5, 1], [11, 7, 1], [11, 10, 1], [11, 12, 1]]\n",
      "[78.83853331236074, 81.47729076569152, 148.73653479050418, 80.1417779910885, 73.00948601268333]\n",
      "73.00948601268333\n",
      "[11, 12, 1]\n",
      "[[11, 10, 1], [11, 5, 1], [11, 3, 1], [11, 12, 1]]\n",
      "[5.6780202293745266, 8.83583625834638, 16.43790365719602, 73.00948601268333]\n",
      "[11, 3, 1]\n"
     ]
    },
    {
     "name": "stderr",
     "output_type": "stream",
     "text": [
      "C:\\Users\\Gopal\\Anaconda3\\lib\\site-packages\\ipykernel_launcher.py:97: FutureWarning: arrays to stack must be passed as a \"sequence\" type such as list or tuple. Support for non-sequence iterables such as generators is deprecated as of NumPy 1.16 and will raise an error in the future.\n"
     ]
    },
    {
     "name": "stdout",
     "output_type": "stream",
     "text": [
      "Test number:  1\n",
      "K is :  0\n"
     ]
    },
    {
     "name": "stderr",
     "output_type": "stream",
     "text": [
      "C:\\Users\\Gopal\\Anaconda3\\lib\\site-packages\\ipykernel_launcher.py:97: FutureWarning: arrays to stack must be passed as a \"sequence\" type such as list or tuple. Support for non-sequence iterables such as generators is deprecated as of NumPy 1.16 and will raise an error in the future.\n",
      "C:\\Users\\Gopal\\Anaconda3\\lib\\site-packages\\ipykernel_launcher.py:97: FutureWarning: arrays to stack must be passed as a \"sequence\" type such as list or tuple. Support for non-sequence iterables such as generators is deprecated as of NumPy 1.16 and will raise an error in the future.\n",
      "C:\\Users\\Gopal\\Anaconda3\\lib\\site-packages\\ipykernel_launcher.py:97: FutureWarning: arrays to stack must be passed as a \"sequence\" type such as list or tuple. Support for non-sequence iterables such as generators is deprecated as of NumPy 1.16 and will raise an error in the future.\n",
      "C:\\Users\\Gopal\\Anaconda3\\lib\\site-packages\\ipykernel_launcher.py:97: FutureWarning: arrays to stack must be passed as a \"sequence\" type such as list or tuple. Support for non-sequence iterables such as generators is deprecated as of NumPy 1.16 and will raise an error in the future.\n",
      "C:\\Users\\Gopal\\Anaconda3\\lib\\site-packages\\ipykernel_launcher.py:97: FutureWarning: arrays to stack must be passed as a \"sequence\" type such as list or tuple. Support for non-sequence iterables such as generators is deprecated as of NumPy 1.16 and will raise an error in the future.\n"
     ]
    },
    {
     "name": "stdout",
     "output_type": "stream",
     "text": [
      "[[11, 3, 1], [11, 5, 1], [11, 7, 1], [11, 10, 1], [11, 12, 1]]\n",
      "[13.367698792902505, 3.993029610559795, 2.1541737445891176, 1.6806359377859819, 2.153035120564485]\n",
      "1.6806359377859819\n",
      "[11, 10, 1]\n",
      "K is :  1\n",
      "K is :  2\n"
     ]
    },
    {
     "name": "stderr",
     "output_type": "stream",
     "text": [
      "C:\\Users\\Gopal\\Anaconda3\\lib\\site-packages\\ipykernel_launcher.py:97: FutureWarning: arrays to stack must be passed as a \"sequence\" type such as list or tuple. Support for non-sequence iterables such as generators is deprecated as of NumPy 1.16 and will raise an error in the future.\n",
      "C:\\Users\\Gopal\\Anaconda3\\lib\\site-packages\\ipykernel_launcher.py:97: FutureWarning: arrays to stack must be passed as a \"sequence\" type such as list or tuple. Support for non-sequence iterables such as generators is deprecated as of NumPy 1.16 and will raise an error in the future.\n",
      "C:\\Users\\Gopal\\Anaconda3\\lib\\site-packages\\ipykernel_launcher.py:97: FutureWarning: arrays to stack must be passed as a \"sequence\" type such as list or tuple. Support for non-sequence iterables such as generators is deprecated as of NumPy 1.16 and will raise an error in the future.\n",
      "C:\\Users\\Gopal\\Anaconda3\\lib\\site-packages\\ipykernel_launcher.py:97: FutureWarning: arrays to stack must be passed as a \"sequence\" type such as list or tuple. Support for non-sequence iterables such as generators is deprecated as of NumPy 1.16 and will raise an error in the future.\n",
      "C:\\Users\\Gopal\\Anaconda3\\lib\\site-packages\\ipykernel_launcher.py:97: FutureWarning: arrays to stack must be passed as a \"sequence\" type such as list or tuple. Support for non-sequence iterables such as generators is deprecated as of NumPy 1.16 and will raise an error in the future.\n"
     ]
    },
    {
     "name": "stdout",
     "output_type": "stream",
     "text": [
      "[[11, 3, 1], [11, 5, 1], [11, 7, 1], [11, 10, 1], [11, 12, 1]]\n",
      "[13.945349426146047, 5.1520888205956235, 9.364358475622977, 7.981293603553924, 9.104403300438342]\n",
      "5.1520888205956235\n",
      "[11, 5, 1]\n",
      "K is :  3\n"
     ]
    },
    {
     "name": "stderr",
     "output_type": "stream",
     "text": [
      "C:\\Users\\Gopal\\Anaconda3\\lib\\site-packages\\ipykernel_launcher.py:97: FutureWarning: arrays to stack must be passed as a \"sequence\" type such as list or tuple. Support for non-sequence iterables such as generators is deprecated as of NumPy 1.16 and will raise an error in the future.\n",
      "C:\\Users\\Gopal\\Anaconda3\\lib\\site-packages\\ipykernel_launcher.py:97: FutureWarning: arrays to stack must be passed as a \"sequence\" type such as list or tuple. Support for non-sequence iterables such as generators is deprecated as of NumPy 1.16 and will raise an error in the future.\n",
      "C:\\Users\\Gopal\\Anaconda3\\lib\\site-packages\\ipykernel_launcher.py:97: FutureWarning: arrays to stack must be passed as a \"sequence\" type such as list or tuple. Support for non-sequence iterables such as generators is deprecated as of NumPy 1.16 and will raise an error in the future.\n",
      "C:\\Users\\Gopal\\Anaconda3\\lib\\site-packages\\ipykernel_launcher.py:97: FutureWarning: arrays to stack must be passed as a \"sequence\" type such as list or tuple. Support for non-sequence iterables such as generators is deprecated as of NumPy 1.16 and will raise an error in the future.\n",
      "C:\\Users\\Gopal\\Anaconda3\\lib\\site-packages\\ipykernel_launcher.py:97: FutureWarning: arrays to stack must be passed as a \"sequence\" type such as list or tuple. Support for non-sequence iterables such as generators is deprecated as of NumPy 1.16 and will raise an error in the future.\n"
     ]
    },
    {
     "name": "stdout",
     "output_type": "stream",
     "text": [
      "[[11, 3, 1], [11, 5, 1], [11, 7, 1], [11, 10, 1], [11, 12, 1]]\n",
      "[25.283421845615763, 69.2706031730605, 64.99493161815393, 31.989634710564516, 42.79769743274862]\n",
      "25.283421845615763\n",
      "[11, 3, 1]\n",
      "K is :  4\n"
     ]
    },
    {
     "name": "stderr",
     "output_type": "stream",
     "text": [
      "C:\\Users\\Gopal\\Anaconda3\\lib\\site-packages\\ipykernel_launcher.py:97: FutureWarning: arrays to stack must be passed as a \"sequence\" type such as list or tuple. Support for non-sequence iterables such as generators is deprecated as of NumPy 1.16 and will raise an error in the future.\n",
      "C:\\Users\\Gopal\\Anaconda3\\lib\\site-packages\\ipykernel_launcher.py:97: FutureWarning: arrays to stack must be passed as a \"sequence\" type such as list or tuple. Support for non-sequence iterables such as generators is deprecated as of NumPy 1.16 and will raise an error in the future.\n",
      "C:\\Users\\Gopal\\Anaconda3\\lib\\site-packages\\ipykernel_launcher.py:97: FutureWarning: arrays to stack must be passed as a \"sequence\" type such as list or tuple. Support for non-sequence iterables such as generators is deprecated as of NumPy 1.16 and will raise an error in the future.\n",
      "C:\\Users\\Gopal\\Anaconda3\\lib\\site-packages\\ipykernel_launcher.py:97: FutureWarning: arrays to stack must be passed as a \"sequence\" type such as list or tuple. Support for non-sequence iterables such as generators is deprecated as of NumPy 1.16 and will raise an error in the future.\n",
      "C:\\Users\\Gopal\\Anaconda3\\lib\\site-packages\\ipykernel_launcher.py:97: FutureWarning: arrays to stack must be passed as a \"sequence\" type such as list or tuple. Support for non-sequence iterables such as generators is deprecated as of NumPy 1.16 and will raise an error in the future.\n"
     ]
    },
    {
     "name": "stdout",
     "output_type": "stream",
     "text": [
      "[[11, 3, 1], [11, 5, 1], [11, 7, 1], [11, 10, 1], [11, 12, 1]]\n",
      "[19.28092679899255, 350.4951597711076, 37.611618487199706, 23.798937366368268, 58.42244069683213]\n",
      "19.28092679899255\n",
      "[11, 3, 1]\n",
      "[[11, 10, 1], [11, 5, 1], [11, 3, 1], [11, 3, 1]]\n",
      "[1.6806359377859819, 5.1520888205956235, 25.283421845615763, 19.28092679899255]\n",
      "[11, 3, 1]\n"
     ]
    },
    {
     "name": "stderr",
     "output_type": "stream",
     "text": [
      "C:\\Users\\Gopal\\Anaconda3\\lib\\site-packages\\ipykernel_launcher.py:97: FutureWarning: arrays to stack must be passed as a \"sequence\" type such as list or tuple. Support for non-sequence iterables such as generators is deprecated as of NumPy 1.16 and will raise an error in the future.\n"
     ]
    },
    {
     "name": "stdout",
     "output_type": "stream",
     "text": [
      "Test number:  2\n",
      "K is :  0\n"
     ]
    },
    {
     "name": "stderr",
     "output_type": "stream",
     "text": [
      "C:\\Users\\Gopal\\Anaconda3\\lib\\site-packages\\ipykernel_launcher.py:97: FutureWarning: arrays to stack must be passed as a \"sequence\" type such as list or tuple. Support for non-sequence iterables such as generators is deprecated as of NumPy 1.16 and will raise an error in the future.\n",
      "C:\\Users\\Gopal\\Anaconda3\\lib\\site-packages\\ipykernel_launcher.py:97: FutureWarning: arrays to stack must be passed as a \"sequence\" type such as list or tuple. Support for non-sequence iterables such as generators is deprecated as of NumPy 1.16 and will raise an error in the future.\n",
      "C:\\Users\\Gopal\\Anaconda3\\lib\\site-packages\\ipykernel_launcher.py:97: FutureWarning: arrays to stack must be passed as a \"sequence\" type such as list or tuple. Support for non-sequence iterables such as generators is deprecated as of NumPy 1.16 and will raise an error in the future.\n",
      "C:\\Users\\Gopal\\Anaconda3\\lib\\site-packages\\ipykernel_launcher.py:97: FutureWarning: arrays to stack must be passed as a \"sequence\" type such as list or tuple. Support for non-sequence iterables such as generators is deprecated as of NumPy 1.16 and will raise an error in the future.\n",
      "C:\\Users\\Gopal\\Anaconda3\\lib\\site-packages\\ipykernel_launcher.py:97: FutureWarning: arrays to stack must be passed as a \"sequence\" type such as list or tuple. Support for non-sequence iterables such as generators is deprecated as of NumPy 1.16 and will raise an error in the future.\n"
     ]
    },
    {
     "name": "stdout",
     "output_type": "stream",
     "text": [
      "[[11, 3, 1], [11, 5, 1], [11, 7, 1], [11, 10, 1], [11, 12, 1]]\n",
      "[13.944186741278205, 11.927065848289278, 4.775926433184597, 3.3594314865345156, 2.111070230123707]\n",
      "2.111070230123707\n",
      "[11, 12, 1]\n",
      "K is :  1\n"
     ]
    },
    {
     "name": "stderr",
     "output_type": "stream",
     "text": [
      "C:\\Users\\Gopal\\Anaconda3\\lib\\site-packages\\ipykernel_launcher.py:97: FutureWarning: arrays to stack must be passed as a \"sequence\" type such as list or tuple. Support for non-sequence iterables such as generators is deprecated as of NumPy 1.16 and will raise an error in the future.\n",
      "C:\\Users\\Gopal\\Anaconda3\\lib\\site-packages\\ipykernel_launcher.py:97: FutureWarning: arrays to stack must be passed as a \"sequence\" type such as list or tuple. Support for non-sequence iterables such as generators is deprecated as of NumPy 1.16 and will raise an error in the future.\n",
      "C:\\Users\\Gopal\\Anaconda3\\lib\\site-packages\\ipykernel_launcher.py:97: FutureWarning: arrays to stack must be passed as a \"sequence\" type such as list or tuple. Support for non-sequence iterables such as generators is deprecated as of NumPy 1.16 and will raise an error in the future.\n",
      "C:\\Users\\Gopal\\Anaconda3\\lib\\site-packages\\ipykernel_launcher.py:97: FutureWarning: arrays to stack must be passed as a \"sequence\" type such as list or tuple. Support for non-sequence iterables such as generators is deprecated as of NumPy 1.16 and will raise an error in the future.\n",
      "C:\\Users\\Gopal\\Anaconda3\\lib\\site-packages\\ipykernel_launcher.py:97: FutureWarning: arrays to stack must be passed as a \"sequence\" type such as list or tuple. Support for non-sequence iterables such as generators is deprecated as of NumPy 1.16 and will raise an error in the future.\n"
     ]
    },
    {
     "name": "stdout",
     "output_type": "stream",
     "text": [
      "[[11, 3, 1], [11, 5, 1], [11, 7, 1], [11, 10, 1], [11, 12, 1]]\n",
      "[15.993926785392707, 10.106999927104612, 9.347120986346733, 4.694270303656795, 6.838243694815711]\n",
      "4.694270303656795\n",
      "[11, 10, 1]\n",
      "K is :  2\n",
      "K is :  3\n"
     ]
    },
    {
     "name": "stderr",
     "output_type": "stream",
     "text": [
      "C:\\Users\\Gopal\\Anaconda3\\lib\\site-packages\\ipykernel_launcher.py:97: FutureWarning: arrays to stack must be passed as a \"sequence\" type such as list or tuple. Support for non-sequence iterables such as generators is deprecated as of NumPy 1.16 and will raise an error in the future.\n",
      "C:\\Users\\Gopal\\Anaconda3\\lib\\site-packages\\ipykernel_launcher.py:97: FutureWarning: arrays to stack must be passed as a \"sequence\" type such as list or tuple. Support for non-sequence iterables such as generators is deprecated as of NumPy 1.16 and will raise an error in the future.\n",
      "C:\\Users\\Gopal\\Anaconda3\\lib\\site-packages\\ipykernel_launcher.py:97: FutureWarning: arrays to stack must be passed as a \"sequence\" type such as list or tuple. Support for non-sequence iterables such as generators is deprecated as of NumPy 1.16 and will raise an error in the future.\n",
      "C:\\Users\\Gopal\\Anaconda3\\lib\\site-packages\\ipykernel_launcher.py:97: FutureWarning: arrays to stack must be passed as a \"sequence\" type such as list or tuple. Support for non-sequence iterables such as generators is deprecated as of NumPy 1.16 and will raise an error in the future.\n",
      "C:\\Users\\Gopal\\Anaconda3\\lib\\site-packages\\ipykernel_launcher.py:97: FutureWarning: arrays to stack must be passed as a \"sequence\" type such as list or tuple. Support for non-sequence iterables such as generators is deprecated as of NumPy 1.16 and will raise an error in the future.\n"
     ]
    },
    {
     "name": "stdout",
     "output_type": "stream",
     "text": [
      "[[11, 3, 1], [11, 5, 1], [11, 7, 1], [11, 10, 1], [11, 12, 1]]\n",
      "[17.348403066317054, 43.11920514180452, 24.534630086904595, 21.072259762699943, 37.7444805537564]\n",
      "17.348403066317054\n",
      "[11, 3, 1]\n",
      "K is :  4\n"
     ]
    },
    {
     "name": "stderr",
     "output_type": "stream",
     "text": [
      "C:\\Users\\Gopal\\Anaconda3\\lib\\site-packages\\ipykernel_launcher.py:97: FutureWarning: arrays to stack must be passed as a \"sequence\" type such as list or tuple. Support for non-sequence iterables such as generators is deprecated as of NumPy 1.16 and will raise an error in the future.\n",
      "C:\\Users\\Gopal\\Anaconda3\\lib\\site-packages\\ipykernel_launcher.py:97: FutureWarning: arrays to stack must be passed as a \"sequence\" type such as list or tuple. Support for non-sequence iterables such as generators is deprecated as of NumPy 1.16 and will raise an error in the future.\n",
      "C:\\Users\\Gopal\\Anaconda3\\lib\\site-packages\\ipykernel_launcher.py:97: FutureWarning: arrays to stack must be passed as a \"sequence\" type such as list or tuple. Support for non-sequence iterables such as generators is deprecated as of NumPy 1.16 and will raise an error in the future.\n",
      "C:\\Users\\Gopal\\Anaconda3\\lib\\site-packages\\ipykernel_launcher.py:97: FutureWarning: arrays to stack must be passed as a \"sequence\" type such as list or tuple. Support for non-sequence iterables such as generators is deprecated as of NumPy 1.16 and will raise an error in the future.\n",
      "C:\\Users\\Gopal\\Anaconda3\\lib\\site-packages\\ipykernel_launcher.py:97: FutureWarning: arrays to stack must be passed as a \"sequence\" type such as list or tuple. Support for non-sequence iterables such as generators is deprecated as of NumPy 1.16 and will raise an error in the future.\n"
     ]
    },
    {
     "name": "stdout",
     "output_type": "stream",
     "text": [
      "[[11, 3, 1], [11, 5, 1], [11, 7, 1], [11, 10, 1], [11, 12, 1]]\n",
      "[13.541426734245375, 364.78697447380694, 59.11486439958478, 246.22919823201863, 46.5184647248216]\n",
      "13.541426734245375\n",
      "[11, 3, 1]\n",
      "[[11, 12, 1], [11, 10, 1], [11, 3, 1], [11, 3, 1]]\n",
      "[2.111070230123707, 4.694270303656795, 17.348403066317054, 13.541426734245375]\n",
      "[11, 3, 1]\n"
     ]
    },
    {
     "name": "stderr",
     "output_type": "stream",
     "text": [
      "C:\\Users\\Gopal\\Anaconda3\\lib\\site-packages\\ipykernel_launcher.py:97: FutureWarning: arrays to stack must be passed as a \"sequence\" type such as list or tuple. Support for non-sequence iterables such as generators is deprecated as of NumPy 1.16 and will raise an error in the future.\n"
     ]
    },
    {
     "name": "stdout",
     "output_type": "stream",
     "text": [
      "Test number:  3\n",
      "K is :  0\n"
     ]
    },
    {
     "name": "stderr",
     "output_type": "stream",
     "text": [
      "C:\\Users\\Gopal\\Anaconda3\\lib\\site-packages\\ipykernel_launcher.py:97: FutureWarning: arrays to stack must be passed as a \"sequence\" type such as list or tuple. Support for non-sequence iterables such as generators is deprecated as of NumPy 1.16 and will raise an error in the future.\n",
      "C:\\Users\\Gopal\\Anaconda3\\lib\\site-packages\\ipykernel_launcher.py:97: FutureWarning: arrays to stack must be passed as a \"sequence\" type such as list or tuple. Support for non-sequence iterables such as generators is deprecated as of NumPy 1.16 and will raise an error in the future.\n",
      "C:\\Users\\Gopal\\Anaconda3\\lib\\site-packages\\ipykernel_launcher.py:97: FutureWarning: arrays to stack must be passed as a \"sequence\" type such as list or tuple. Support for non-sequence iterables such as generators is deprecated as of NumPy 1.16 and will raise an error in the future.\n",
      "C:\\Users\\Gopal\\Anaconda3\\lib\\site-packages\\ipykernel_launcher.py:97: FutureWarning: arrays to stack must be passed as a \"sequence\" type such as list or tuple. Support for non-sequence iterables such as generators is deprecated as of NumPy 1.16 and will raise an error in the future.\n",
      "C:\\Users\\Gopal\\Anaconda3\\lib\\site-packages\\ipykernel_launcher.py:97: FutureWarning: arrays to stack must be passed as a \"sequence\" type such as list or tuple. Support for non-sequence iterables such as generators is deprecated as of NumPy 1.16 and will raise an error in the future.\n"
     ]
    },
    {
     "name": "stdout",
     "output_type": "stream",
     "text": [
      "[[11, 3, 1], [11, 5, 1], [11, 7, 1], [11, 10, 1], [11, 12, 1]]\n",
      "[7.48087324694547, 2.7947855083370947, 2.457889908134464, 2.0160275126813234, 2.061671694468676]\n",
      "2.0160275126813234\n",
      "[11, 10, 1]\n",
      "K is :  1\n"
     ]
    },
    {
     "name": "stderr",
     "output_type": "stream",
     "text": [
      "C:\\Users\\Gopal\\Anaconda3\\lib\\site-packages\\ipykernel_launcher.py:97: FutureWarning: arrays to stack must be passed as a \"sequence\" type such as list or tuple. Support for non-sequence iterables such as generators is deprecated as of NumPy 1.16 and will raise an error in the future.\n",
      "C:\\Users\\Gopal\\Anaconda3\\lib\\site-packages\\ipykernel_launcher.py:97: FutureWarning: arrays to stack must be passed as a \"sequence\" type such as list or tuple. Support for non-sequence iterables such as generators is deprecated as of NumPy 1.16 and will raise an error in the future.\n",
      "C:\\Users\\Gopal\\Anaconda3\\lib\\site-packages\\ipykernel_launcher.py:97: FutureWarning: arrays to stack must be passed as a \"sequence\" type such as list or tuple. Support for non-sequence iterables such as generators is deprecated as of NumPy 1.16 and will raise an error in the future.\n",
      "C:\\Users\\Gopal\\Anaconda3\\lib\\site-packages\\ipykernel_launcher.py:97: FutureWarning: arrays to stack must be passed as a \"sequence\" type such as list or tuple. Support for non-sequence iterables such as generators is deprecated as of NumPy 1.16 and will raise an error in the future.\n",
      "C:\\Users\\Gopal\\Anaconda3\\lib\\site-packages\\ipykernel_launcher.py:97: FutureWarning: arrays to stack must be passed as a \"sequence\" type such as list or tuple. Support for non-sequence iterables such as generators is deprecated as of NumPy 1.16 and will raise an error in the future.\n"
     ]
    },
    {
     "name": "stdout",
     "output_type": "stream",
     "text": [
      "[[11, 3, 1], [11, 5, 1], [11, 7, 1], [11, 10, 1], [11, 12, 1]]\n",
      "[5.5022289496879955, 9.802508408839579, 6.319662000010568, 4.702461314221952, 7.2715302048413175]\n",
      "4.702461314221952\n",
      "[11, 10, 1]\n",
      "K is :  2\n"
     ]
    },
    {
     "name": "stderr",
     "output_type": "stream",
     "text": [
      "C:\\Users\\Gopal\\Anaconda3\\lib\\site-packages\\ipykernel_launcher.py:97: FutureWarning: arrays to stack must be passed as a \"sequence\" type such as list or tuple. Support for non-sequence iterables such as generators is deprecated as of NumPy 1.16 and will raise an error in the future.\n",
      "C:\\Users\\Gopal\\Anaconda3\\lib\\site-packages\\ipykernel_launcher.py:97: FutureWarning: arrays to stack must be passed as a \"sequence\" type such as list or tuple. Support for non-sequence iterables such as generators is deprecated as of NumPy 1.16 and will raise an error in the future.\n",
      "C:\\Users\\Gopal\\Anaconda3\\lib\\site-packages\\ipykernel_launcher.py:97: FutureWarning: arrays to stack must be passed as a \"sequence\" type such as list or tuple. Support for non-sequence iterables such as generators is deprecated as of NumPy 1.16 and will raise an error in the future.\n",
      "C:\\Users\\Gopal\\Anaconda3\\lib\\site-packages\\ipykernel_launcher.py:97: FutureWarning: arrays to stack must be passed as a \"sequence\" type such as list or tuple. Support for non-sequence iterables such as generators is deprecated as of NumPy 1.16 and will raise an error in the future.\n",
      "C:\\Users\\Gopal\\Anaconda3\\lib\\site-packages\\ipykernel_launcher.py:97: FutureWarning: arrays to stack must be passed as a \"sequence\" type such as list or tuple. Support for non-sequence iterables such as generators is deprecated as of NumPy 1.16 and will raise an error in the future.\n"
     ]
    },
    {
     "name": "stdout",
     "output_type": "stream",
     "text": [
      "[[11, 3, 1], [11, 5, 1], [11, 7, 1], [11, 10, 1], [11, 12, 1]]\n",
      "[9.327874386066236, 8.733659556290597, 11.328165128633241, 12.1846785532397, 10.43787406717903]\n",
      "8.733659556290597\n",
      "[11, 5, 1]\n",
      "K is :  3\n",
      "K is :  4\n"
     ]
    },
    {
     "name": "stderr",
     "output_type": "stream",
     "text": [
      "C:\\Users\\Gopal\\Anaconda3\\lib\\site-packages\\ipykernel_launcher.py:97: FutureWarning: arrays to stack must be passed as a \"sequence\" type such as list or tuple. Support for non-sequence iterables such as generators is deprecated as of NumPy 1.16 and will raise an error in the future.\n",
      "C:\\Users\\Gopal\\Anaconda3\\lib\\site-packages\\ipykernel_launcher.py:97: FutureWarning: arrays to stack must be passed as a \"sequence\" type such as list or tuple. Support for non-sequence iterables such as generators is deprecated as of NumPy 1.16 and will raise an error in the future.\n",
      "C:\\Users\\Gopal\\Anaconda3\\lib\\site-packages\\ipykernel_launcher.py:97: FutureWarning: arrays to stack must be passed as a \"sequence\" type such as list or tuple. Support for non-sequence iterables such as generators is deprecated as of NumPy 1.16 and will raise an error in the future.\n",
      "C:\\Users\\Gopal\\Anaconda3\\lib\\site-packages\\ipykernel_launcher.py:97: FutureWarning: arrays to stack must be passed as a \"sequence\" type such as list or tuple. Support for non-sequence iterables such as generators is deprecated as of NumPy 1.16 and will raise an error in the future.\n",
      "C:\\Users\\Gopal\\Anaconda3\\lib\\site-packages\\ipykernel_launcher.py:97: FutureWarning: arrays to stack must be passed as a \"sequence\" type such as list or tuple. Support for non-sequence iterables such as generators is deprecated as of NumPy 1.16 and will raise an error in the future.\n"
     ]
    },
    {
     "name": "stdout",
     "output_type": "stream",
     "text": [
      "[[11, 3, 1], [11, 5, 1], [11, 7, 1], [11, 10, 1], [11, 12, 1]]\n",
      "[102.24690581310888, 352.85415287521266, 211.44128055869703, 38.842961760977275, 125.5462869046998]\n",
      "38.842961760977275\n",
      "[11, 10, 1]\n",
      "[[11, 10, 1], [11, 10, 1], [11, 5, 1], [11, 10, 1]]\n",
      "[2.0160275126813234, 4.702461314221952, 8.733659556290597, 38.842961760977275]\n",
      "[11, 3, 1]\n"
     ]
    },
    {
     "name": "stderr",
     "output_type": "stream",
     "text": [
      "C:\\Users\\Gopal\\Anaconda3\\lib\\site-packages\\ipykernel_launcher.py:97: FutureWarning: arrays to stack must be passed as a \"sequence\" type such as list or tuple. Support for non-sequence iterables such as generators is deprecated as of NumPy 1.16 and will raise an error in the future.\n"
     ]
    },
    {
     "name": "stdout",
     "output_type": "stream",
     "text": [
      "Test number:  4\n",
      "K is :  0\n"
     ]
    },
    {
     "name": "stderr",
     "output_type": "stream",
     "text": [
      "C:\\Users\\Gopal\\Anaconda3\\lib\\site-packages\\ipykernel_launcher.py:97: FutureWarning: arrays to stack must be passed as a \"sequence\" type such as list or tuple. Support for non-sequence iterables such as generators is deprecated as of NumPy 1.16 and will raise an error in the future.\n",
      "C:\\Users\\Gopal\\Anaconda3\\lib\\site-packages\\ipykernel_launcher.py:97: FutureWarning: arrays to stack must be passed as a \"sequence\" type such as list or tuple. Support for non-sequence iterables such as generators is deprecated as of NumPy 1.16 and will raise an error in the future.\n",
      "C:\\Users\\Gopal\\Anaconda3\\lib\\site-packages\\ipykernel_launcher.py:97: FutureWarning: arrays to stack must be passed as a \"sequence\" type such as list or tuple. Support for non-sequence iterables such as generators is deprecated as of NumPy 1.16 and will raise an error in the future.\n",
      "C:\\Users\\Gopal\\Anaconda3\\lib\\site-packages\\ipykernel_launcher.py:97: FutureWarning: arrays to stack must be passed as a \"sequence\" type such as list or tuple. Support for non-sequence iterables such as generators is deprecated as of NumPy 1.16 and will raise an error in the future.\n",
      "C:\\Users\\Gopal\\Anaconda3\\lib\\site-packages\\ipykernel_launcher.py:97: FutureWarning: arrays to stack must be passed as a \"sequence\" type such as list or tuple. Support for non-sequence iterables such as generators is deprecated as of NumPy 1.16 and will raise an error in the future.\n"
     ]
    },
    {
     "name": "stdout",
     "output_type": "stream",
     "text": [
      "[[11, 3, 1], [11, 5, 1], [11, 7, 1], [11, 10, 1], [11, 12, 1]]\n",
      "[6.554964128446773, 6.573673896129992, 3.702724609714396, 1.8276674700084674, 1.7377903176557445]\n",
      "1.7377903176557445\n",
      "[11, 12, 1]\n",
      "K is :  1\n"
     ]
    },
    {
     "name": "stderr",
     "output_type": "stream",
     "text": [
      "C:\\Users\\Gopal\\Anaconda3\\lib\\site-packages\\ipykernel_launcher.py:97: FutureWarning: arrays to stack must be passed as a \"sequence\" type such as list or tuple. Support for non-sequence iterables such as generators is deprecated as of NumPy 1.16 and will raise an error in the future.\n",
      "C:\\Users\\Gopal\\Anaconda3\\lib\\site-packages\\ipykernel_launcher.py:97: FutureWarning: arrays to stack must be passed as a \"sequence\" type such as list or tuple. Support for non-sequence iterables such as generators is deprecated as of NumPy 1.16 and will raise an error in the future.\n",
      "C:\\Users\\Gopal\\Anaconda3\\lib\\site-packages\\ipykernel_launcher.py:97: FutureWarning: arrays to stack must be passed as a \"sequence\" type such as list or tuple. Support for non-sequence iterables such as generators is deprecated as of NumPy 1.16 and will raise an error in the future.\n",
      "C:\\Users\\Gopal\\Anaconda3\\lib\\site-packages\\ipykernel_launcher.py:97: FutureWarning: arrays to stack must be passed as a \"sequence\" type such as list or tuple. Support for non-sequence iterables such as generators is deprecated as of NumPy 1.16 and will raise an error in the future.\n",
      "C:\\Users\\Gopal\\Anaconda3\\lib\\site-packages\\ipykernel_launcher.py:97: FutureWarning: arrays to stack must be passed as a \"sequence\" type such as list or tuple. Support for non-sequence iterables such as generators is deprecated as of NumPy 1.16 and will raise an error in the future.\n"
     ]
    },
    {
     "name": "stdout",
     "output_type": "stream",
     "text": [
      "[[11, 3, 1], [11, 5, 1], [11, 7, 1], [11, 10, 1], [11, 12, 1]]\n",
      "[13.002551096516788, 12.104243241191453, 5.945369831097174, 5.647908247961401, 7.200590593148895]\n",
      "5.647908247961401\n",
      "[11, 10, 1]\n",
      "K is :  2\n"
     ]
    },
    {
     "name": "stderr",
     "output_type": "stream",
     "text": [
      "C:\\Users\\Gopal\\Anaconda3\\lib\\site-packages\\ipykernel_launcher.py:97: FutureWarning: arrays to stack must be passed as a \"sequence\" type such as list or tuple. Support for non-sequence iterables such as generators is deprecated as of NumPy 1.16 and will raise an error in the future.\n",
      "C:\\Users\\Gopal\\Anaconda3\\lib\\site-packages\\ipykernel_launcher.py:97: FutureWarning: arrays to stack must be passed as a \"sequence\" type such as list or tuple. Support for non-sequence iterables such as generators is deprecated as of NumPy 1.16 and will raise an error in the future.\n",
      "C:\\Users\\Gopal\\Anaconda3\\lib\\site-packages\\ipykernel_launcher.py:97: FutureWarning: arrays to stack must be passed as a \"sequence\" type such as list or tuple. Support for non-sequence iterables such as generators is deprecated as of NumPy 1.16 and will raise an error in the future.\n",
      "C:\\Users\\Gopal\\Anaconda3\\lib\\site-packages\\ipykernel_launcher.py:97: FutureWarning: arrays to stack must be passed as a \"sequence\" type such as list or tuple. Support for non-sequence iterables such as generators is deprecated as of NumPy 1.16 and will raise an error in the future.\n",
      "C:\\Users\\Gopal\\Anaconda3\\lib\\site-packages\\ipykernel_launcher.py:97: FutureWarning: arrays to stack must be passed as a \"sequence\" type such as list or tuple. Support for non-sequence iterables such as generators is deprecated as of NumPy 1.16 and will raise an error in the future.\n"
     ]
    },
    {
     "name": "stdout",
     "output_type": "stream",
     "text": [
      "[[11, 3, 1], [11, 5, 1], [11, 7, 1], [11, 10, 1], [11, 12, 1]]\n",
      "[20.92113077799701, 12.297408783173166, 7.783797154354982, 12.441919884493227, 6.937070395084449]\n",
      "6.937070395084449\n",
      "[11, 12, 1]\n",
      "K is :  3\n"
     ]
    },
    {
     "name": "stderr",
     "output_type": "stream",
     "text": [
      "C:\\Users\\Gopal\\Anaconda3\\lib\\site-packages\\ipykernel_launcher.py:97: FutureWarning: arrays to stack must be passed as a \"sequence\" type such as list or tuple. Support for non-sequence iterables such as generators is deprecated as of NumPy 1.16 and will raise an error in the future.\n",
      "C:\\Users\\Gopal\\Anaconda3\\lib\\site-packages\\ipykernel_launcher.py:97: FutureWarning: arrays to stack must be passed as a \"sequence\" type such as list or tuple. Support for non-sequence iterables such as generators is deprecated as of NumPy 1.16 and will raise an error in the future.\n",
      "C:\\Users\\Gopal\\Anaconda3\\lib\\site-packages\\ipykernel_launcher.py:97: FutureWarning: arrays to stack must be passed as a \"sequence\" type such as list or tuple. Support for non-sequence iterables such as generators is deprecated as of NumPy 1.16 and will raise an error in the future.\n",
      "C:\\Users\\Gopal\\Anaconda3\\lib\\site-packages\\ipykernel_launcher.py:97: FutureWarning: arrays to stack must be passed as a \"sequence\" type such as list or tuple. Support for non-sequence iterables such as generators is deprecated as of NumPy 1.16 and will raise an error in the future.\n",
      "C:\\Users\\Gopal\\Anaconda3\\lib\\site-packages\\ipykernel_launcher.py:97: FutureWarning: arrays to stack must be passed as a \"sequence\" type such as list or tuple. Support for non-sequence iterables such as generators is deprecated as of NumPy 1.16 and will raise an error in the future.\n"
     ]
    },
    {
     "name": "stdout",
     "output_type": "stream",
     "text": [
      "[[11, 3, 1], [11, 5, 1], [11, 7, 1], [11, 10, 1], [11, 12, 1]]\n",
      "[22.39407520918759, 33.70926365332464, 97.18853488846226, 29.425218096403288, 20.974316695845552]\n",
      "20.974316695845552\n",
      "[11, 12, 1]\n",
      "K is :  4\n",
      "[[11, 12, 1], [11, 10, 1], [11, 12, 1], [11, 12, 1]]\n",
      "[1.7377903176557445, 5.647908247961401, 6.937070395084449, 20.974316695845552]\n",
      "[11, 3, 1]\n"
     ]
    },
    {
     "name": "stderr",
     "output_type": "stream",
     "text": [
      "C:\\Users\\Gopal\\Anaconda3\\lib\\site-packages\\ipykernel_launcher.py:97: FutureWarning: arrays to stack must be passed as a \"sequence\" type such as list or tuple. Support for non-sequence iterables such as generators is deprecated as of NumPy 1.16 and will raise an error in the future.\n"
     ]
    }
   ],
   "source": [
    "models = [[11,3,1],[11,5,1],[11,7,1], [11,10,1], [11,12,1]]\n",
    "\n",
    "bestAccuracy,bestParam = cross_validate(np.array(df), np.array(df_target), models)"
   ]
  },
  {
   "cell_type": "code",
   "execution_count": 253,
   "metadata": {},
   "outputs": [],
   "source": [
    "from sklearn import model_selection"
   ]
  },
  {
   "cell_type": "code",
   "execution_count": 254,
   "metadata": {},
   "outputs": [
    {
     "name": "stdout",
     "output_type": "stream",
     "text": [
      "[29.064925908093006, 11.740903135950811, 11.891151856924507, 12.431802040431377, 77.69295141944612] [[11, 3, 1], [11, 3, 1], [11, 3, 1], [11, 3, 1], [11, 3, 1]]\n"
     ]
    }
   ],
   "source": [
    "print(bestAccuracy,bestParam)"
   ]
  },
  {
   "cell_type": "code",
   "execution_count": 255,
   "metadata": {},
   "outputs": [],
   "source": [
    "X_trn,X_tst,y_trn,y_tst = model_selection.train_test_split(np.array(df),np.array(df_target),test_size=0.30,random_state=40)"
   ]
  },
  {
   "cell_type": "code",
   "execution_count": 256,
   "metadata": {},
   "outputs": [
    {
     "name": "stderr",
     "output_type": "stream",
     "text": [
      "C:\\Users\\Gopal\\Anaconda3\\lib\\site-packages\\ipykernel_launcher.py:97: FutureWarning: arrays to stack must be passed as a \"sequence\" type such as list or tuple. Support for non-sequence iterables such as generators is deprecated as of NumPy 1.16 and will raise an error in the future.\n"
     ]
    },
    {
     "data": {
      "text/plain": [
       "{'w': array([-3.60166919e-01,  2.47584178e+00,  9.30639289e-01,  9.51126480e-02,\n",
       "        -1.76432724e-02,  4.19259735e-01,  7.24534510e-01, -3.50606480e-01,\n",
       "        -7.65775471e-01, -4.15321176e-01,  7.53748817e-02, -1.74418948e+00,\n",
       "        -6.24899476e-03,  9.48138903e-02, -5.46966508e-03,  1.87341758e-02,\n",
       "        -1.52753244e-02, -1.04167783e-02, -1.39469854e-02,  8.75897488e-03,\n",
       "        -1.75253353e-02, -2.35876243e-02, -3.01994016e-02,  1.12954030e-02,\n",
       "        -2.00057731e-02, -2.17346713e-02, -5.42346742e-02, -1.74870116e-02,\n",
       "         1.37026410e-02,  4.32010140e-02, -2.43076120e-02, -2.35840963e-02,\n",
       "         3.75396346e-02, -9.03504047e-03, -1.88333163e-02, -5.11203196e-03,\n",
       "         3.31994212e-02,  9.80928717e-02,  2.40727789e-02,  1.44621344e-02,\n",
       "        -1.68798955e-02, -3.89466963e-02,  7.03898611e-03,  3.29193701e-02,\n",
       "        -9.84743319e-03, -2.13266640e-02,  1.11202084e-02, -1.16837276e-02,\n",
       "        -4.21807597e-02, -7.36119583e-02, -5.93478091e-02, -2.07074418e-02,\n",
       "         2.72941481e-02,  7.61053511e-02, -2.46440008e-02, -4.90458125e-02,\n",
       "         2.92917385e-02,  6.53272859e-03, -3.79011676e-02,  1.07308664e-02,\n",
       "         8.70427926e-03, -3.16532649e-02,  1.44233978e-02,  3.48948623e-01,\n",
       "        -4.08305358e-01, -5.66741304e-02, -6.53587970e-03,  5.09902691e-02,\n",
       "         3.69091947e-02,  4.84135305e-02,  9.63698539e-03,  1.04005207e-01,\n",
       "        -3.81167250e-02, -8.00494626e-02, -5.07977784e-02,  3.41879665e-02,\n",
       "         3.34548856e-02,  3.90998689e-02,  2.83820725e-02,  3.74714200e-02,\n",
       "        -2.69825819e-02, -3.44339135e-02,  3.54589358e-02,  6.32352490e-02,\n",
       "        -1.09576587e-03, -2.21921278e-02,  1.56189097e-02,  1.66485345e-03,\n",
       "         2.08791980e-03, -9.91028428e-03,  1.08437860e-02,  8.99555930e-03,\n",
       "        -1.49735658e-02,  7.55723393e-03, -6.07531422e-03,  7.45597184e-03,\n",
       "        -2.70245909e-02, -2.41259951e-02, -4.52652252e-02, -2.69893691e-02,\n",
       "         3.12819795e-02,  3.15086842e-02, -2.92836576e-02, -2.70907838e-02,\n",
       "         3.50982858e-02,  1.10312111e-02,  2.62628615e-03,  1.66253554e-02,\n",
       "        -4.51743280e-02, -7.91449804e-02, -7.15273713e-02, -3.54959189e-02,\n",
       "         3.54088001e-02,  8.22745161e-02, -3.39640952e-02, -6.37979229e-02,\n",
       "         4.70704551e-02,  1.38098916e-02, -9.96570865e-03,  3.38613219e-03,\n",
       "        -2.10801293e-02, -6.49728338e-02,  3.27584276e-03, -1.01194977e-03,\n",
       "         7.68645268e-03,  1.45250394e-02,  1.49354550e-02, -2.42983949e-02,\n",
       "         8.59901135e-03,  2.31378432e-02,  2.62618625e-04,  2.58940447e-02,\n",
       "         1.49635801e-02,  8.01630678e-03,  2.94630729e-02,  2.85119741e-02,\n",
       "        -2.83807156e-02, -1.86740070e-02,  3.14759464e-02,  2.62224492e-02,\n",
       "        -1.66011596e-02,  1.20950344e-03, -1.88696893e-02,  1.21866816e-02,\n",
       "         3.96637150e+00, -3.35920936e+00, -4.27646673e+00, -3.86614281e+00,\n",
       "         3.88403628e+00,  2.98280675e+00,  2.91180598e+00,  3.68287924e+00,\n",
       "         3.90717279e+00, -2.48773287e+00, -3.37509129e+00,  3.76878935e+00,\n",
       "         3.93223265e+00]),\n",
       " 'f': 0.00016026723942314596,\n",
       " 'reason': 'reached limit of nIterations',\n",
       " 'wtrace': None,\n",
       " 'ftrace': None}"
      ]
     },
     "execution_count": 256,
     "metadata": {},
     "output_type": "execute_result"
    }
   ],
   "source": [
    "model=NeuralNet([11,12,1])  \n",
    "#choosing parameters which occured more number of times on the final parameter list\n",
    "#because those are the list with mininmum rmse\n",
    "model.train(X_trn,y_trn,niter=1000)"
   ]
  },
  {
   "cell_type": "code",
   "execution_count": 257,
   "metadata": {},
   "outputs": [],
   "source": [
    "y_pred=model.use(X_tst)"
   ]
  },
  {
   "cell_type": "code",
   "execution_count": 258,
   "metadata": {},
   "outputs": [
    {
     "name": "stdout",
     "output_type": "stream",
     "text": [
      "RMSE: 10.175276318903277\n",
      "R squared value: 0.9985824749185555\n"
     ]
    }
   ],
   "source": [
    "from sklearn.metrics import r2_score\n",
    "print('RMSE:', np.sqrt(mean_squared_error(y_tst, y_pred)))\n",
    "print('R squared value:', r2_score(y_tst, y_pred))"
   ]
  },
  {
   "cell_type": "markdown",
   "metadata": {},
   "source": [
    "## Plot of Results"
   ]
  },
  {
   "cell_type": "code",
   "execution_count": 259,
   "metadata": {},
   "outputs": [
    {
     "data": {
      "image/png": "[encoded data removed]",
      "text/plain": [
       "<Figure size 864x648 with 1 Axes>"
      ]
     },
     "metadata": {
      "needs_background": "light"
     },
     "output_type": "display_data"
    }
   ],
   "source": [
    "sns.residplot(y_pred.flatten(), y_tst.flatten(), color=(0.8, 0.35, 0.25))\n",
    "plt.title('Residual plot')\n",
    "plt.xlabel('Predicted values')\n",
    "plt.ylabel('Residuals');"
   ]
  },
  {
   "cell_type": "code",
   "execution_count": 260,
   "metadata": {},
   "outputs": [
    {
     "data": {
      "image/png": "[encoded data removed]",
      "text/plain": [
       "<Figure size 864x648 with 1 Axes>"
      ]
     },
     "metadata": {
      "needs_background": "light"
     },
     "output_type": "display_data"
    }
   ],
   "source": [
    "fig, ax = plt.subplots()\n",
    "ax.scatter(y_tst, y_pred, edgecolors=(0.6,0.7,0.5))\n",
    "ax.plot([y_tst.min(), y_tst.max()], [y_tst.min(), y_tst.max()],'b--', lw=3)\n",
    "ax.set_ylabel('Predicted')\n",
    "ax.set_xlabel('Actual')\n",
    "plt.show()"
   ]
  },
  {
   "cell_type": "code",
   "execution_count": 261,
   "metadata": {},
   "outputs": [
    {
     "data": {
      "text/plain": [
       "Text(0.5, 1.0, 'NN model predictions')"
      ]
     },
     "execution_count": 261,
     "metadata": {},
     "output_type": "execute_result"
    },
    {
     "data": {
      "image/png": "[encoded data removed]",
      "text/plain": [
       "<Figure size 864x648 with 1 Axes>"
      ]
     },
     "metadata": {
      "needs_background": "light"
     },
     "output_type": "display_data"
    }
   ],
   "source": [
    "plt.plot(y_pred)\n",
    "plt.title(\"NN model predictions\")"
   ]
  },
  {
   "cell_type": "markdown",
   "metadata": {},
   "source": [
    "## Discussions about parameter/network structure choice"
   ]
  },
  {
   "cell_type": "markdown",
   "metadata": {},
   "source": [
    "### Explanation of CV Results"
   ]
  },
  {
   "cell_type": "markdown",
   "metadata": {},
   "source": [
    "I have built a 3 layer neural network. Input layer has 11 nodes because there are 11 features in my data. Output layer has 1 node.<br><br>\n",
    "I tried for the best network structure by changing the number of nodes in hidden layer. I have performed 5 fold cross validation by passing my models variable as  [[11, 7, 1], [11, 3, 1], [11, 3, 1], [11, 3, 1], [11, 3, 1]]. The first value here represents input nodes, second value represents nodes in hidden layer, third value represents output nodes.\n",
    "We can clearly find out that the model [11,12,1] has appeared more number of times. <br><br>\n",
    "The rmse values returned for [11, 12, 1] in the final result are [1.7529763322645415, 6.268476056862809, 9.333375322551655, 10.361224733379588]<br><br>\n",
    "The model with number of nodes in hidden layer 3 works better. Hence, I've used [11,12,1] as the final structure."
   ]
  },
  {
   "cell_type": "markdown",
   "metadata": {},
   "source": [
    "### Discussions about Prediction results"
   ]
  },
  {
   "cell_type": "markdown",
   "metadata": {},
   "source": [
    "In this particular assignment I have done regression analysis using Neural network which is non linear regression problem. On training the model using NeuralNet with optimum structure [11,12,1], model has produced a RMSE: 11.184980283010352 R squared value: 0.9982871916391842. <br><br>\n",
    "\n",
    "We can choose hidden layers, hidden nodes that suits our problem. Each node is connected to a activation function which makes the network more powerful. I used tanh as activation function. The gradient is updating the weights in each layer during back propagation which made network work so well.<br><br>\n",
    "\n",
    "I tried with 11 layers and 1000 iterations I got R squared value around 0.00012. There's a strange variation in results obtained by this dataset. "
   ]
  },
  {
   "cell_type": "markdown",
   "metadata": {},
   "source": [
    "# Nonlinear Logistic Regression"
   ]
  },
  {
   "cell_type": "markdown",
   "metadata": {},
   "source": [
    "## Data Description"
   ]
  },
  {
   "cell_type": "markdown",
   "metadata": {},
   "source": [
    "The dataset for the classification is taken from the UCI Machine Learning repository. The dataset consists of census information of about 49k people earning in some capacity. The following are the attributes of the dataset:\n",
    "\n",
    "1. Age, Continuous\n",
    "\n",
    "2. Workclass, of the person\n",
    "\n",
    "3. fnlwgt, final weight, continuous\n",
    "\n",
    "4. education, of the person, as an object\n",
    "\n",
    "5. education-num\n",
    "\n",
    "6. marital-status, of the person\n",
    "\n",
    "7. occupation, of the person\n",
    "\n",
    "8. relationship, of the person\n",
    "\n",
    "9. race, of the person\n",
    "\n",
    "10. sex\n",
    "\n",
    "11. capital-gain\n",
    "\n",
    "12. capital-loss\n",
    "\n",
    "13. hours-per-week\n",
    "\n",
    "14. native country\n",
    "\n",
    "15. Salary, of the person"
   ]
  },
  {
   "cell_type": "code",
   "execution_count": 291,
   "metadata": {},
   "outputs": [
    {
     "data": {
      "text/html": [
       "<div>\n",
       "<style scoped>\n",
       "    .dataframe tbody tr th:only-of-type {\n",
       "        vertical-align: middle;\n",
       "    }\n",
       "\n",
       "    .dataframe tbody tr th {\n",
       "        vertical-align: top;\n",
       "    }\n",
       "\n",
       "    .dataframe thead th {\n",
       "        text-align: right;\n",
       "    }\n",
       "</style>\n",
       "<table border=\"1\" class=\"dataframe\">\n",
       "  <thead>\n",
       "    <tr style=\"text-align: right;\">\n",
       "      <th></th>\n",
       "      <th>age</th>\n",
       "      <th>workclass</th>\n",
       "      <th>fnlwgt</th>\n",
       "      <th>education</th>\n",
       "      <th>education-num</th>\n",
       "      <th>marital-status</th>\n",
       "      <th>occupation</th>\n",
       "      <th>relationship</th>\n",
       "      <th>race</th>\n",
       "      <th>sex</th>\n",
       "      <th>capital-gain</th>\n",
       "      <th>capital-loss</th>\n",
       "      <th>hours-per-week</th>\n",
       "      <th>native-country</th>\n",
       "      <th>Salary</th>\n",
       "    </tr>\n",
       "  </thead>\n",
       "  <tbody>\n",
       "    <tr>\n",
       "      <th>0</th>\n",
       "      <td>39</td>\n",
       "      <td>State-gov</td>\n",
       "      <td>77516</td>\n",
       "      <td>Bachelors</td>\n",
       "      <td>13</td>\n",
       "      <td>Never-married</td>\n",
       "      <td>Adm-clerical</td>\n",
       "      <td>Not-in-family</td>\n",
       "      <td>White</td>\n",
       "      <td>Male</td>\n",
       "      <td>2174</td>\n",
       "      <td>0</td>\n",
       "      <td>40</td>\n",
       "      <td>United-States</td>\n",
       "      <td>&lt;=50K</td>\n",
       "    </tr>\n",
       "    <tr>\n",
       "      <th>1</th>\n",
       "      <td>50</td>\n",
       "      <td>Self-emp-not-inc</td>\n",
       "      <td>83311</td>\n",
       "      <td>Bachelors</td>\n",
       "      <td>13</td>\n",
       "      <td>Married-civ-spouse</td>\n",
       "      <td>Exec-managerial</td>\n",
       "      <td>Husband</td>\n",
       "      <td>White</td>\n",
       "      <td>Male</td>\n",
       "      <td>0</td>\n",
       "      <td>0</td>\n",
       "      <td>13</td>\n",
       "      <td>United-States</td>\n",
       "      <td>&lt;=50K</td>\n",
       "    </tr>\n",
       "    <tr>\n",
       "      <th>2</th>\n",
       "      <td>38</td>\n",
       "      <td>Private</td>\n",
       "      <td>215646</td>\n",
       "      <td>HS-grad</td>\n",
       "      <td>9</td>\n",
       "      <td>Divorced</td>\n",
       "      <td>Handlers-cleaners</td>\n",
       "      <td>Not-in-family</td>\n",
       "      <td>White</td>\n",
       "      <td>Male</td>\n",
       "      <td>0</td>\n",
       "      <td>0</td>\n",
       "      <td>40</td>\n",
       "      <td>United-States</td>\n",
       "      <td>&lt;=50K</td>\n",
       "    </tr>\n",
       "    <tr>\n",
       "      <th>3</th>\n",
       "      <td>53</td>\n",
       "      <td>Private</td>\n",
       "      <td>234721</td>\n",
       "      <td>11th</td>\n",
       "      <td>7</td>\n",
       "      <td>Married-civ-spouse</td>\n",
       "      <td>Handlers-cleaners</td>\n",
       "      <td>Husband</td>\n",
       "      <td>Black</td>\n",
       "      <td>Male</td>\n",
       "      <td>0</td>\n",
       "      <td>0</td>\n",
       "      <td>40</td>\n",
       "      <td>United-States</td>\n",
       "      <td>&lt;=50K</td>\n",
       "    </tr>\n",
       "    <tr>\n",
       "      <th>4</th>\n",
       "      <td>28</td>\n",
       "      <td>Private</td>\n",
       "      <td>338409</td>\n",
       "      <td>Bachelors</td>\n",
       "      <td>13</td>\n",
       "      <td>Married-civ-spouse</td>\n",
       "      <td>Prof-specialty</td>\n",
       "      <td>Wife</td>\n",
       "      <td>Black</td>\n",
       "      <td>Female</td>\n",
       "      <td>0</td>\n",
       "      <td>0</td>\n",
       "      <td>40</td>\n",
       "      <td>Cuba</td>\n",
       "      <td>&lt;=50K</td>\n",
       "    </tr>\n",
       "    <tr>\n",
       "      <th>5</th>\n",
       "      <td>37</td>\n",
       "      <td>Private</td>\n",
       "      <td>284582</td>\n",
       "      <td>Masters</td>\n",
       "      <td>14</td>\n",
       "      <td>Married-civ-spouse</td>\n",
       "      <td>Exec-managerial</td>\n",
       "      <td>Wife</td>\n",
       "      <td>White</td>\n",
       "      <td>Female</td>\n",
       "      <td>0</td>\n",
       "      <td>0</td>\n",
       "      <td>40</td>\n",
       "      <td>United-States</td>\n",
       "      <td>&lt;=50K</td>\n",
       "    </tr>\n",
       "    <tr>\n",
       "      <th>6</th>\n",
       "      <td>49</td>\n",
       "      <td>Private</td>\n",
       "      <td>160187</td>\n",
       "      <td>9th</td>\n",
       "      <td>5</td>\n",
       "      <td>Married-spouse-absent</td>\n",
       "      <td>Other-service</td>\n",
       "      <td>Not-in-family</td>\n",
       "      <td>Black</td>\n",
       "      <td>Female</td>\n",
       "      <td>0</td>\n",
       "      <td>0</td>\n",
       "      <td>16</td>\n",
       "      <td>Jamaica</td>\n",
       "      <td>&lt;=50K</td>\n",
       "    </tr>\n",
       "    <tr>\n",
       "      <th>7</th>\n",
       "      <td>52</td>\n",
       "      <td>Self-emp-not-inc</td>\n",
       "      <td>209642</td>\n",
       "      <td>HS-grad</td>\n",
       "      <td>9</td>\n",
       "      <td>Married-civ-spouse</td>\n",
       "      <td>Exec-managerial</td>\n",
       "      <td>Husband</td>\n",
       "      <td>White</td>\n",
       "      <td>Male</td>\n",
       "      <td>0</td>\n",
       "      <td>0</td>\n",
       "      <td>45</td>\n",
       "      <td>United-States</td>\n",
       "      <td>&gt;50K</td>\n",
       "    </tr>\n",
       "    <tr>\n",
       "      <th>8</th>\n",
       "      <td>31</td>\n",
       "      <td>Private</td>\n",
       "      <td>45781</td>\n",
       "      <td>Masters</td>\n",
       "      <td>14</td>\n",
       "      <td>Never-married</td>\n",
       "      <td>Prof-specialty</td>\n",
       "      <td>Not-in-family</td>\n",
       "      <td>White</td>\n",
       "      <td>Female</td>\n",
       "      <td>14084</td>\n",
       "      <td>0</td>\n",
       "      <td>50</td>\n",
       "      <td>United-States</td>\n",
       "      <td>&gt;50K</td>\n",
       "    </tr>\n",
       "    <tr>\n",
       "      <th>9</th>\n",
       "      <td>42</td>\n",
       "      <td>Private</td>\n",
       "      <td>159449</td>\n",
       "      <td>Bachelors</td>\n",
       "      <td>13</td>\n",
       "      <td>Married-civ-spouse</td>\n",
       "      <td>Exec-managerial</td>\n",
       "      <td>Husband</td>\n",
       "      <td>White</td>\n",
       "      <td>Male</td>\n",
       "      <td>5178</td>\n",
       "      <td>0</td>\n",
       "      <td>40</td>\n",
       "      <td>United-States</td>\n",
       "      <td>&gt;50K</td>\n",
       "    </tr>\n",
       "  </tbody>\n",
       "</table>\n",
       "</div>"
      ],
      "text/plain": [
       "   age          workclass  fnlwgt   education  education-num  \\\n",
       "0   39          State-gov   77516   Bachelors             13   \n",
       "1   50   Self-emp-not-inc   83311   Bachelors             13   \n",
       "2   38            Private  215646     HS-grad              9   \n",
       "3   53            Private  234721        11th              7   \n",
       "4   28            Private  338409   Bachelors             13   \n",
       "5   37            Private  284582     Masters             14   \n",
       "6   49            Private  160187         9th              5   \n",
       "7   52   Self-emp-not-inc  209642     HS-grad              9   \n",
       "8   31            Private   45781     Masters             14   \n",
       "9   42            Private  159449   Bachelors             13   \n",
       "\n",
       "           marital-status          occupation    relationship    race  \\\n",
       "0           Never-married        Adm-clerical   Not-in-family   White   \n",
       "1      Married-civ-spouse     Exec-managerial         Husband   White   \n",
       "2                Divorced   Handlers-cleaners   Not-in-family   White   \n",
       "3      Married-civ-spouse   Handlers-cleaners         Husband   Black   \n",
       "4      Married-civ-spouse      Prof-specialty            Wife   Black   \n",
       "5      Married-civ-spouse     Exec-managerial            Wife   White   \n",
       "6   Married-spouse-absent       Other-service   Not-in-family   Black   \n",
       "7      Married-civ-spouse     Exec-managerial         Husband   White   \n",
       "8           Never-married      Prof-specialty   Not-in-family   White   \n",
       "9      Married-civ-spouse     Exec-managerial         Husband   White   \n",
       "\n",
       "       sex  capital-gain  capital-loss  hours-per-week  native-country  Salary  \n",
       "0     Male          2174             0              40   United-States   <=50K  \n",
       "1     Male             0             0              13   United-States   <=50K  \n",
       "2     Male             0             0              40   United-States   <=50K  \n",
       "3     Male             0             0              40   United-States   <=50K  \n",
       "4   Female             0             0              40            Cuba   <=50K  \n",
       "5   Female             0             0              40   United-States   <=50K  \n",
       "6   Female             0             0              16         Jamaica   <=50K  \n",
       "7     Male             0             0              45   United-States    >50K  \n",
       "8   Female         14084             0              50   United-States    >50K  \n",
       "9     Male          5178             0              40   United-States    >50K  "
      ]
     },
     "execution_count": 291,
     "metadata": {},
     "output_type": "execute_result"
    }
   ],
   "source": [
    "df= pd.read_csv('adult.data',names=['age','workclass','fnlwgt','education','education-num','marital-status','occupation','relationship','race','sex','capital-gain','capital-loss','hours-per-week','native-country','Salary'])\n",
    "df.head(10)"
   ]
  },
  {
   "cell_type": "code",
   "execution_count": 292,
   "metadata": {},
   "outputs": [
    {
     "data": {
      "text/html": [
       "<div>\n",
       "<style scoped>\n",
       "    .dataframe tbody tr th:only-of-type {\n",
       "        vertical-align: middle;\n",
       "    }\n",
       "\n",
       "    .dataframe tbody tr th {\n",
       "        vertical-align: top;\n",
       "    }\n",
       "\n",
       "    .dataframe thead th {\n",
       "        text-align: right;\n",
       "    }\n",
       "</style>\n",
       "<table border=\"1\" class=\"dataframe\">\n",
       "  <thead>\n",
       "    <tr style=\"text-align: right;\">\n",
       "      <th></th>\n",
       "      <th>age</th>\n",
       "      <th>workclass</th>\n",
       "      <th>fnlwgt</th>\n",
       "      <th>education</th>\n",
       "      <th>education-num</th>\n",
       "      <th>marital-status</th>\n",
       "      <th>occupation</th>\n",
       "      <th>relationship</th>\n",
       "      <th>race</th>\n",
       "      <th>sex</th>\n",
       "      <th>capital-gain</th>\n",
       "      <th>capital-loss</th>\n",
       "      <th>hours-per-week</th>\n",
       "      <th>native-country</th>\n",
       "      <th>Salary</th>\n",
       "    </tr>\n",
       "  </thead>\n",
       "  <tbody>\n",
       "    <tr>\n",
       "      <th>0</th>\n",
       "      <td>39</td>\n",
       "      <td>State-gov</td>\n",
       "      <td>77516</td>\n",
       "      <td>Bachelors</td>\n",
       "      <td>13</td>\n",
       "      <td>Never-married</td>\n",
       "      <td>Adm-clerical</td>\n",
       "      <td>Not-in-family</td>\n",
       "      <td>White</td>\n",
       "      <td>Male</td>\n",
       "      <td>2174</td>\n",
       "      <td>0</td>\n",
       "      <td>40</td>\n",
       "      <td>United-States</td>\n",
       "      <td>1</td>\n",
       "    </tr>\n",
       "    <tr>\n",
       "      <th>1</th>\n",
       "      <td>50</td>\n",
       "      <td>Self-emp-not-inc</td>\n",
       "      <td>83311</td>\n",
       "      <td>Bachelors</td>\n",
       "      <td>13</td>\n",
       "      <td>Married-civ-spouse</td>\n",
       "      <td>Exec-managerial</td>\n",
       "      <td>Husband</td>\n",
       "      <td>White</td>\n",
       "      <td>Male</td>\n",
       "      <td>0</td>\n",
       "      <td>0</td>\n",
       "      <td>13</td>\n",
       "      <td>United-States</td>\n",
       "      <td>1</td>\n",
       "    </tr>\n",
       "    <tr>\n",
       "      <th>2</th>\n",
       "      <td>38</td>\n",
       "      <td>Private</td>\n",
       "      <td>215646</td>\n",
       "      <td>HS-grad</td>\n",
       "      <td>9</td>\n",
       "      <td>Divorced</td>\n",
       "      <td>Handlers-cleaners</td>\n",
       "      <td>Not-in-family</td>\n",
       "      <td>White</td>\n",
       "      <td>Male</td>\n",
       "      <td>0</td>\n",
       "      <td>0</td>\n",
       "      <td>40</td>\n",
       "      <td>United-States</td>\n",
       "      <td>1</td>\n",
       "    </tr>\n",
       "    <tr>\n",
       "      <th>3</th>\n",
       "      <td>53</td>\n",
       "      <td>Private</td>\n",
       "      <td>234721</td>\n",
       "      <td>11th</td>\n",
       "      <td>7</td>\n",
       "      <td>Married-civ-spouse</td>\n",
       "      <td>Handlers-cleaners</td>\n",
       "      <td>Husband</td>\n",
       "      <td>Black</td>\n",
       "      <td>Male</td>\n",
       "      <td>0</td>\n",
       "      <td>0</td>\n",
       "      <td>40</td>\n",
       "      <td>United-States</td>\n",
       "      <td>1</td>\n",
       "    </tr>\n",
       "    <tr>\n",
       "      <th>4</th>\n",
       "      <td>28</td>\n",
       "      <td>Private</td>\n",
       "      <td>338409</td>\n",
       "      <td>Bachelors</td>\n",
       "      <td>13</td>\n",
       "      <td>Married-civ-spouse</td>\n",
       "      <td>Prof-specialty</td>\n",
       "      <td>Wife</td>\n",
       "      <td>Black</td>\n",
       "      <td>Female</td>\n",
       "      <td>0</td>\n",
       "      <td>0</td>\n",
       "      <td>40</td>\n",
       "      <td>Cuba</td>\n",
       "      <td>1</td>\n",
       "    </tr>\n",
       "    <tr>\n",
       "      <th>5</th>\n",
       "      <td>37</td>\n",
       "      <td>Private</td>\n",
       "      <td>284582</td>\n",
       "      <td>Masters</td>\n",
       "      <td>14</td>\n",
       "      <td>Married-civ-spouse</td>\n",
       "      <td>Exec-managerial</td>\n",
       "      <td>Wife</td>\n",
       "      <td>White</td>\n",
       "      <td>Female</td>\n",
       "      <td>0</td>\n",
       "      <td>0</td>\n",
       "      <td>40</td>\n",
       "      <td>United-States</td>\n",
       "      <td>1</td>\n",
       "    </tr>\n",
       "    <tr>\n",
       "      <th>6</th>\n",
       "      <td>49</td>\n",
       "      <td>Private</td>\n",
       "      <td>160187</td>\n",
       "      <td>9th</td>\n",
       "      <td>5</td>\n",
       "      <td>Married-spouse-absent</td>\n",
       "      <td>Other-service</td>\n",
       "      <td>Not-in-family</td>\n",
       "      <td>Black</td>\n",
       "      <td>Female</td>\n",
       "      <td>0</td>\n",
       "      <td>0</td>\n",
       "      <td>16</td>\n",
       "      <td>Jamaica</td>\n",
       "      <td>1</td>\n",
       "    </tr>\n",
       "    <tr>\n",
       "      <th>7</th>\n",
       "      <td>52</td>\n",
       "      <td>Self-emp-not-inc</td>\n",
       "      <td>209642</td>\n",
       "      <td>HS-grad</td>\n",
       "      <td>9</td>\n",
       "      <td>Married-civ-spouse</td>\n",
       "      <td>Exec-managerial</td>\n",
       "      <td>Husband</td>\n",
       "      <td>White</td>\n",
       "      <td>Male</td>\n",
       "      <td>0</td>\n",
       "      <td>0</td>\n",
       "      <td>45</td>\n",
       "      <td>United-States</td>\n",
       "      <td>-1</td>\n",
       "    </tr>\n",
       "    <tr>\n",
       "      <th>8</th>\n",
       "      <td>31</td>\n",
       "      <td>Private</td>\n",
       "      <td>45781</td>\n",
       "      <td>Masters</td>\n",
       "      <td>14</td>\n",
       "      <td>Never-married</td>\n",
       "      <td>Prof-specialty</td>\n",
       "      <td>Not-in-family</td>\n",
       "      <td>White</td>\n",
       "      <td>Female</td>\n",
       "      <td>14084</td>\n",
       "      <td>0</td>\n",
       "      <td>50</td>\n",
       "      <td>United-States</td>\n",
       "      <td>-1</td>\n",
       "    </tr>\n",
       "    <tr>\n",
       "      <th>9</th>\n",
       "      <td>42</td>\n",
       "      <td>Private</td>\n",
       "      <td>159449</td>\n",
       "      <td>Bachelors</td>\n",
       "      <td>13</td>\n",
       "      <td>Married-civ-spouse</td>\n",
       "      <td>Exec-managerial</td>\n",
       "      <td>Husband</td>\n",
       "      <td>White</td>\n",
       "      <td>Male</td>\n",
       "      <td>5178</td>\n",
       "      <td>0</td>\n",
       "      <td>40</td>\n",
       "      <td>United-States</td>\n",
       "      <td>-1</td>\n",
       "    </tr>\n",
       "  </tbody>\n",
       "</table>\n",
       "</div>"
      ],
      "text/plain": [
       "   age          workclass  fnlwgt   education  education-num  \\\n",
       "0   39          State-gov   77516   Bachelors             13   \n",
       "1   50   Self-emp-not-inc   83311   Bachelors             13   \n",
       "2   38            Private  215646     HS-grad              9   \n",
       "3   53            Private  234721        11th              7   \n",
       "4   28            Private  338409   Bachelors             13   \n",
       "5   37            Private  284582     Masters             14   \n",
       "6   49            Private  160187         9th              5   \n",
       "7   52   Self-emp-not-inc  209642     HS-grad              9   \n",
       "8   31            Private   45781     Masters             14   \n",
       "9   42            Private  159449   Bachelors             13   \n",
       "\n",
       "           marital-status          occupation    relationship    race  \\\n",
       "0           Never-married        Adm-clerical   Not-in-family   White   \n",
       "1      Married-civ-spouse     Exec-managerial         Husband   White   \n",
       "2                Divorced   Handlers-cleaners   Not-in-family   White   \n",
       "3      Married-civ-spouse   Handlers-cleaners         Husband   Black   \n",
       "4      Married-civ-spouse      Prof-specialty            Wife   Black   \n",
       "5      Married-civ-spouse     Exec-managerial            Wife   White   \n",
       "6   Married-spouse-absent       Other-service   Not-in-family   Black   \n",
       "7      Married-civ-spouse     Exec-managerial         Husband   White   \n",
       "8           Never-married      Prof-specialty   Not-in-family   White   \n",
       "9      Married-civ-spouse     Exec-managerial         Husband   White   \n",
       "\n",
       "       sex  capital-gain  capital-loss  hours-per-week  native-country  Salary  \n",
       "0     Male          2174             0              40   United-States       1  \n",
       "1     Male             0             0              13   United-States       1  \n",
       "2     Male             0             0              40   United-States       1  \n",
       "3     Male             0             0              40   United-States       1  \n",
       "4   Female             0             0              40            Cuba       1  \n",
       "5   Female             0             0              40   United-States       1  \n",
       "6   Female             0             0              16         Jamaica       1  \n",
       "7     Male             0             0              45   United-States      -1  \n",
       "8   Female         14084             0              50   United-States      -1  \n",
       "9     Male          5178             0              40   United-States      -1  "
      ]
     },
     "execution_count": 292,
     "metadata": {},
     "output_type": "execute_result"
    }
   ],
   "source": [
    "#There are so many object data types which we need to convert into int data types for the preprocessing to take place.\n",
    "\n",
    "salary_map={' <=50K':1,' >50K':-1}\n",
    "df['Salary']=df['Salary'].map(salary_map).astype(int)\n",
    "\n",
    "df.head(10)"
   ]
  },
  {
   "cell_type": "code",
   "execution_count": 293,
   "metadata": {},
   "outputs": [],
   "source": [
    "#Convert sex into integer\n",
    "\n",
    "df['sex'] = df['sex'].map({' Male':1,' Female':0}).astype(int)"
   ]
  },
  {
   "cell_type": "code",
   "execution_count": 294,
   "metadata": {},
   "outputs": [],
   "source": [
    "#df.drop('education','fnlwgt', axis=1, inplace=True)\n",
    "df.drop(columns=['fnlwgt', 'education'], inplace=True)"
   ]
  },
  {
   "cell_type": "code",
   "execution_count": 295,
   "metadata": {},
   "outputs": [
    {
     "data": {
      "text/plain": [
       "(30162, 13)"
      ]
     },
     "execution_count": 295,
     "metadata": {},
     "output_type": "execute_result"
    }
   ],
   "source": [
    "df.shape\n",
    "df['native-country'] = df['native-country'].replace(' ?',np.nan)\n",
    "df['workclass'] = df['workclass'].replace(' ?',np.nan)\n",
    "df['occupation'] = df['occupation'].replace(' ?',np.nan)\n",
    "\n",
    "df.dropna(how='any',inplace=True)\n",
    "df.shape"
   ]
  },
  {
   "cell_type": "code",
   "execution_count": 296,
   "metadata": {},
   "outputs": [],
   "source": [
    "for ds in [df]:\n",
    "    ds.loc[ds['native-country'] != ' United-States', 'native-country'] = 'Non-US'\n",
    "    ds.loc[ds['native-country'] == ' United-States', 'native-country'] = 'US'"
   ]
  },
  {
   "cell_type": "code",
   "execution_count": 297,
   "metadata": {},
   "outputs": [],
   "source": [
    "#Converting country into integer\n",
    "\n",
    "df['native-country'] = df['native-country'].map({'US':1,'Non-US':0}).astype(int)"
   ]
  },
  {
   "cell_type": "code",
   "execution_count": 298,
   "metadata": {},
   "outputs": [],
   "source": [
    "from sklearn.preprocessing import LabelEncoder\n",
    "le = LabelEncoder()\n",
    "le.fit(df['race'])\n",
    "df['race']=le.transform(df['race'])\n",
    "le.fit(df['workclass'])\n",
    "df['workclass']=le.transform(df['workclass'])\n",
    "le.fit(df['marital-status'])\n",
    "df['marital-status']=le.transform(df['marital-status'])\n",
    "le.fit(df['occupation'])\n",
    "df['occupation']=le.transform(df['occupation'])\n",
    "le.fit(df['relationship'])\n",
    "df['relationship']=le.transform(df['relationship'])"
   ]
  },
  {
   "cell_type": "code",
   "execution_count": 299,
   "metadata": {},
   "outputs": [
    {
     "data": {
      "text/html": [
       "<div>\n",
       "<style scoped>\n",
       "    .dataframe tbody tr th:only-of-type {\n",
       "        vertical-align: middle;\n",
       "    }\n",
       "\n",
       "    .dataframe tbody tr th {\n",
       "        vertical-align: top;\n",
       "    }\n",
       "\n",
       "    .dataframe thead th {\n",
       "        text-align: right;\n",
       "    }\n",
       "</style>\n",
       "<table border=\"1\" class=\"dataframe\">\n",
       "  <thead>\n",
       "    <tr style=\"text-align: right;\">\n",
       "      <th></th>\n",
       "      <th>age</th>\n",
       "      <th>workclass</th>\n",
       "      <th>education-num</th>\n",
       "      <th>marital-status</th>\n",
       "      <th>occupation</th>\n",
       "      <th>relationship</th>\n",
       "      <th>race</th>\n",
       "      <th>sex</th>\n",
       "      <th>capital-gain</th>\n",
       "      <th>capital-loss</th>\n",
       "      <th>hours-per-week</th>\n",
       "      <th>native-country</th>\n",
       "      <th>Salary</th>\n",
       "    </tr>\n",
       "  </thead>\n",
       "  <tbody>\n",
       "    <tr>\n",
       "      <th>0</th>\n",
       "      <td>39</td>\n",
       "      <td>5</td>\n",
       "      <td>13</td>\n",
       "      <td>4</td>\n",
       "      <td>0</td>\n",
       "      <td>1</td>\n",
       "      <td>4</td>\n",
       "      <td>1</td>\n",
       "      <td>2174</td>\n",
       "      <td>0</td>\n",
       "      <td>40</td>\n",
       "      <td>1</td>\n",
       "      <td>1</td>\n",
       "    </tr>\n",
       "    <tr>\n",
       "      <th>1</th>\n",
       "      <td>50</td>\n",
       "      <td>4</td>\n",
       "      <td>13</td>\n",
       "      <td>2</td>\n",
       "      <td>3</td>\n",
       "      <td>0</td>\n",
       "      <td>4</td>\n",
       "      <td>1</td>\n",
       "      <td>0</td>\n",
       "      <td>0</td>\n",
       "      <td>13</td>\n",
       "      <td>1</td>\n",
       "      <td>1</td>\n",
       "    </tr>\n",
       "    <tr>\n",
       "      <th>2</th>\n",
       "      <td>38</td>\n",
       "      <td>2</td>\n",
       "      <td>9</td>\n",
       "      <td>0</td>\n",
       "      <td>5</td>\n",
       "      <td>1</td>\n",
       "      <td>4</td>\n",
       "      <td>1</td>\n",
       "      <td>0</td>\n",
       "      <td>0</td>\n",
       "      <td>40</td>\n",
       "      <td>1</td>\n",
       "      <td>1</td>\n",
       "    </tr>\n",
       "    <tr>\n",
       "      <th>3</th>\n",
       "      <td>53</td>\n",
       "      <td>2</td>\n",
       "      <td>7</td>\n",
       "      <td>2</td>\n",
       "      <td>5</td>\n",
       "      <td>0</td>\n",
       "      <td>2</td>\n",
       "      <td>1</td>\n",
       "      <td>0</td>\n",
       "      <td>0</td>\n",
       "      <td>40</td>\n",
       "      <td>1</td>\n",
       "      <td>1</td>\n",
       "    </tr>\n",
       "    <tr>\n",
       "      <th>4</th>\n",
       "      <td>28</td>\n",
       "      <td>2</td>\n",
       "      <td>13</td>\n",
       "      <td>2</td>\n",
       "      <td>9</td>\n",
       "      <td>5</td>\n",
       "      <td>2</td>\n",
       "      <td>0</td>\n",
       "      <td>0</td>\n",
       "      <td>0</td>\n",
       "      <td>40</td>\n",
       "      <td>0</td>\n",
       "      <td>1</td>\n",
       "    </tr>\n",
       "    <tr>\n",
       "      <th>5</th>\n",
       "      <td>37</td>\n",
       "      <td>2</td>\n",
       "      <td>14</td>\n",
       "      <td>2</td>\n",
       "      <td>3</td>\n",
       "      <td>5</td>\n",
       "      <td>4</td>\n",
       "      <td>0</td>\n",
       "      <td>0</td>\n",
       "      <td>0</td>\n",
       "      <td>40</td>\n",
       "      <td>1</td>\n",
       "      <td>1</td>\n",
       "    </tr>\n",
       "    <tr>\n",
       "      <th>6</th>\n",
       "      <td>49</td>\n",
       "      <td>2</td>\n",
       "      <td>5</td>\n",
       "      <td>3</td>\n",
       "      <td>7</td>\n",
       "      <td>1</td>\n",
       "      <td>2</td>\n",
       "      <td>0</td>\n",
       "      <td>0</td>\n",
       "      <td>0</td>\n",
       "      <td>16</td>\n",
       "      <td>0</td>\n",
       "      <td>1</td>\n",
       "    </tr>\n",
       "    <tr>\n",
       "      <th>7</th>\n",
       "      <td>52</td>\n",
       "      <td>4</td>\n",
       "      <td>9</td>\n",
       "      <td>2</td>\n",
       "      <td>3</td>\n",
       "      <td>0</td>\n",
       "      <td>4</td>\n",
       "      <td>1</td>\n",
       "      <td>0</td>\n",
       "      <td>0</td>\n",
       "      <td>45</td>\n",
       "      <td>1</td>\n",
       "      <td>-1</td>\n",
       "    </tr>\n",
       "    <tr>\n",
       "      <th>8</th>\n",
       "      <td>31</td>\n",
       "      <td>2</td>\n",
       "      <td>14</td>\n",
       "      <td>4</td>\n",
       "      <td>9</td>\n",
       "      <td>1</td>\n",
       "      <td>4</td>\n",
       "      <td>0</td>\n",
       "      <td>14084</td>\n",
       "      <td>0</td>\n",
       "      <td>50</td>\n",
       "      <td>1</td>\n",
       "      <td>-1</td>\n",
       "    </tr>\n",
       "    <tr>\n",
       "      <th>9</th>\n",
       "      <td>42</td>\n",
       "      <td>2</td>\n",
       "      <td>13</td>\n",
       "      <td>2</td>\n",
       "      <td>3</td>\n",
       "      <td>0</td>\n",
       "      <td>4</td>\n",
       "      <td>1</td>\n",
       "      <td>5178</td>\n",
       "      <td>0</td>\n",
       "      <td>40</td>\n",
       "      <td>1</td>\n",
       "      <td>-1</td>\n",
       "    </tr>\n",
       "  </tbody>\n",
       "</table>\n",
       "</div>"
      ],
      "text/plain": [
       "   age  workclass  education-num  marital-status  occupation  relationship  \\\n",
       "0   39          5             13               4           0             1   \n",
       "1   50          4             13               2           3             0   \n",
       "2   38          2              9               0           5             1   \n",
       "3   53          2              7               2           5             0   \n",
       "4   28          2             13               2           9             5   \n",
       "5   37          2             14               2           3             5   \n",
       "6   49          2              5               3           7             1   \n",
       "7   52          4              9               2           3             0   \n",
       "8   31          2             14               4           9             1   \n",
       "9   42          2             13               2           3             0   \n",
       "\n",
       "   race  sex  capital-gain  capital-loss  hours-per-week  native-country  \\\n",
       "0     4    1          2174             0              40               1   \n",
       "1     4    1             0             0              13               1   \n",
       "2     4    1             0             0              40               1   \n",
       "3     2    1             0             0              40               1   \n",
       "4     2    0             0             0              40               0   \n",
       "5     4    0             0             0              40               1   \n",
       "6     2    0             0             0              16               0   \n",
       "7     4    1             0             0              45               1   \n",
       "8     4    0         14084             0              50               1   \n",
       "9     4    1          5178             0              40               1   \n",
       "\n",
       "   Salary  \n",
       "0       1  \n",
       "1       1  \n",
       "2       1  \n",
       "3       1  \n",
       "4       1  \n",
       "5       1  \n",
       "6       1  \n",
       "7      -1  \n",
       "8      -1  \n",
       "9      -1  "
      ]
     },
     "execution_count": 299,
     "metadata": {},
     "output_type": "execute_result"
    }
   ],
   "source": [
    "df.head(10)"
   ]
  },
  {
   "cell_type": "code",
   "execution_count": 300,
   "metadata": {},
   "outputs": [],
   "source": [
    "y_dframe=df['Salary']\n",
    "dframe_lr=df.drop(['Salary'],axis=1)\n",
    "from sklearn import model_selection\n",
    "from sklearn.metrics import r2_score"
   ]
  },
  {
   "cell_type": "code",
   "execution_count": 301,
   "metadata": {},
   "outputs": [
    {
     "data": {
      "text/html": [
       "<div>\n",
       "<style scoped>\n",
       "    .dataframe tbody tr th:only-of-type {\n",
       "        vertical-align: middle;\n",
       "    }\n",
       "\n",
       "    .dataframe tbody tr th {\n",
       "        vertical-align: top;\n",
       "    }\n",
       "\n",
       "    .dataframe thead th {\n",
       "        text-align: right;\n",
       "    }\n",
       "</style>\n",
       "<table border=\"1\" class=\"dataframe\">\n",
       "  <thead>\n",
       "    <tr style=\"text-align: right;\">\n",
       "      <th></th>\n",
       "      <th>age</th>\n",
       "      <th>workclass</th>\n",
       "      <th>education-num</th>\n",
       "      <th>marital-status</th>\n",
       "      <th>occupation</th>\n",
       "      <th>relationship</th>\n",
       "      <th>race</th>\n",
       "      <th>sex</th>\n",
       "      <th>capital-gain</th>\n",
       "      <th>capital-loss</th>\n",
       "      <th>hours-per-week</th>\n",
       "      <th>native-country</th>\n",
       "      <th>Salary</th>\n",
       "    </tr>\n",
       "  </thead>\n",
       "  <tbody>\n",
       "    <tr>\n",
       "      <th>0</th>\n",
       "      <td>39</td>\n",
       "      <td>5</td>\n",
       "      <td>13</td>\n",
       "      <td>4</td>\n",
       "      <td>0</td>\n",
       "      <td>1</td>\n",
       "      <td>4</td>\n",
       "      <td>1</td>\n",
       "      <td>2174</td>\n",
       "      <td>0</td>\n",
       "      <td>40</td>\n",
       "      <td>1</td>\n",
       "      <td>1</td>\n",
       "    </tr>\n",
       "    <tr>\n",
       "      <th>1</th>\n",
       "      <td>50</td>\n",
       "      <td>4</td>\n",
       "      <td>13</td>\n",
       "      <td>2</td>\n",
       "      <td>3</td>\n",
       "      <td>0</td>\n",
       "      <td>4</td>\n",
       "      <td>1</td>\n",
       "      <td>0</td>\n",
       "      <td>0</td>\n",
       "      <td>13</td>\n",
       "      <td>1</td>\n",
       "      <td>1</td>\n",
       "    </tr>\n",
       "    <tr>\n",
       "      <th>2</th>\n",
       "      <td>38</td>\n",
       "      <td>2</td>\n",
       "      <td>9</td>\n",
       "      <td>0</td>\n",
       "      <td>5</td>\n",
       "      <td>1</td>\n",
       "      <td>4</td>\n",
       "      <td>1</td>\n",
       "      <td>0</td>\n",
       "      <td>0</td>\n",
       "      <td>40</td>\n",
       "      <td>1</td>\n",
       "      <td>1</td>\n",
       "    </tr>\n",
       "    <tr>\n",
       "      <th>3</th>\n",
       "      <td>53</td>\n",
       "      <td>2</td>\n",
       "      <td>7</td>\n",
       "      <td>2</td>\n",
       "      <td>5</td>\n",
       "      <td>0</td>\n",
       "      <td>2</td>\n",
       "      <td>1</td>\n",
       "      <td>0</td>\n",
       "      <td>0</td>\n",
       "      <td>40</td>\n",
       "      <td>1</td>\n",
       "      <td>1</td>\n",
       "    </tr>\n",
       "    <tr>\n",
       "      <th>4</th>\n",
       "      <td>28</td>\n",
       "      <td>2</td>\n",
       "      <td>13</td>\n",
       "      <td>2</td>\n",
       "      <td>9</td>\n",
       "      <td>5</td>\n",
       "      <td>2</td>\n",
       "      <td>0</td>\n",
       "      <td>0</td>\n",
       "      <td>0</td>\n",
       "      <td>40</td>\n",
       "      <td>0</td>\n",
       "      <td>1</td>\n",
       "    </tr>\n",
       "  </tbody>\n",
       "</table>\n",
       "</div>"
      ],
      "text/plain": [
       "   age  workclass  education-num  marital-status  occupation  relationship  \\\n",
       "0   39          5             13               4           0             1   \n",
       "1   50          4             13               2           3             0   \n",
       "2   38          2              9               0           5             1   \n",
       "3   53          2              7               2           5             0   \n",
       "4   28          2             13               2           9             5   \n",
       "\n",
       "   race  sex  capital-gain  capital-loss  hours-per-week  native-country  \\\n",
       "0     4    1          2174             0              40               1   \n",
       "1     4    1             0             0              13               1   \n",
       "2     4    1             0             0              40               1   \n",
       "3     2    1             0             0              40               1   \n",
       "4     2    0             0             0              40               0   \n",
       "\n",
       "   Salary  \n",
       "0       1  \n",
       "1       1  \n",
       "2       1  \n",
       "3       1  \n",
       "4       1  "
      ]
     },
     "execution_count": 301,
     "metadata": {},
     "output_type": "execute_result"
    }
   ],
   "source": [
    "df.head(5)"
   ]
  },
  {
   "cell_type": "markdown",
   "metadata": {},
   "source": [
    "### Plots to visualize data"
   ]
  },
  {
   "cell_type": "code",
   "execution_count": 302,
   "metadata": {},
   "outputs": [
    {
     "data": {
      "image/png": "[encoded data removed]",
      "text/plain": [
       "<Figure size 864x648 with 1 Axes>"
      ]
     },
     "metadata": {
      "needs_background": "light"
     },
     "output_type": "display_data"
    }
   ],
   "source": [
    "x= df['hours-per-week']\n",
    "plt.hist(x,bins=None,density=True,normed=None,histtype='bar')\n",
    "plt.show()"
   ]
  },
  {
   "cell_type": "code",
   "execution_count": 303,
   "metadata": {},
   "outputs": [
    {
     "data": {
      "image/png": "[encoded data removed]",
      "text/plain": [
       "<Figure size 864x648 with 1 Axes>"
      ]
     },
     "metadata": {
      "needs_background": "light"
     },
     "output_type": "display_data"
    }
   ],
   "source": [
    "x=df['capital-gain']\n",
    "plt.hist(x,bins=None,normed=None)\n",
    "plt.show()"
   ]
  },
  {
   "cell_type": "code",
   "execution_count": 304,
   "metadata": {},
   "outputs": [
    {
     "data": {
      "image/png": "[encoded data removed]",
      "text/plain": [
       "<Figure size 864x648 with 1 Axes>"
      ]
     },
     "metadata": {
      "needs_background": "light"
     },
     "output_type": "display_data"
    }
   ],
   "source": [
    "x=df['capital-loss']\n",
    "plt.hist(x,bins=None,normed=None)\n",
    "plt.show()"
   ]
  },
  {
   "cell_type": "markdown",
   "metadata": {},
   "source": [
    "### Reading and analysing the plots"
   ]
  },
  {
   "cell_type": "markdown",
   "metadata": {},
   "source": [
    "1. The education and education-num columns are kind of equivalent. education-num is the numerical equivalent of education. Some of the variables have missing values such as native-country. I have preprocessed it by removing all the null values in that column.\n",
    "2. It has been noticed that income varies greatly across different occupations. Nearly half of Professional occupation makes greater than $50,000 a year, while that percentage is only 13% for Service occupation.\n",
    "3. capital_gain and capital_loss are two continuous variables describing income and loss from financial investments. Histograms show that the distributions of these two variables are both highly screwed"
   ]
  },
  {
   "cell_type": "code",
   "execution_count": 305,
   "metadata": {},
   "outputs": [
    {
     "data": {
      "text/html": [
       "<div>\n",
       "<style scoped>\n",
       "    .dataframe tbody tr th:only-of-type {\n",
       "        vertical-align: middle;\n",
       "    }\n",
       "\n",
       "    .dataframe tbody tr th {\n",
       "        vertical-align: top;\n",
       "    }\n",
       "\n",
       "    .dataframe thead th {\n",
       "        text-align: right;\n",
       "    }\n",
       "</style>\n",
       "<table border=\"1\" class=\"dataframe\">\n",
       "  <thead>\n",
       "    <tr style=\"text-align: right;\">\n",
       "      <th></th>\n",
       "      <th>age</th>\n",
       "      <th>workclass</th>\n",
       "      <th>education-num</th>\n",
       "      <th>marital-status</th>\n",
       "      <th>occupation</th>\n",
       "      <th>relationship</th>\n",
       "      <th>race</th>\n",
       "      <th>sex</th>\n",
       "      <th>capital-gain</th>\n",
       "      <th>capital-loss</th>\n",
       "      <th>hours-per-week</th>\n",
       "      <th>native-country</th>\n",
       "      <th>Salary</th>\n",
       "    </tr>\n",
       "  </thead>\n",
       "  <tbody>\n",
       "    <tr>\n",
       "      <th>0</th>\n",
       "      <td>39</td>\n",
       "      <td>5</td>\n",
       "      <td>13</td>\n",
       "      <td>4</td>\n",
       "      <td>0</td>\n",
       "      <td>1</td>\n",
       "      <td>4</td>\n",
       "      <td>1</td>\n",
       "      <td>2174</td>\n",
       "      <td>0</td>\n",
       "      <td>40</td>\n",
       "      <td>1</td>\n",
       "      <td>1</td>\n",
       "    </tr>\n",
       "    <tr>\n",
       "      <th>1</th>\n",
       "      <td>50</td>\n",
       "      <td>4</td>\n",
       "      <td>13</td>\n",
       "      <td>2</td>\n",
       "      <td>3</td>\n",
       "      <td>0</td>\n",
       "      <td>4</td>\n",
       "      <td>1</td>\n",
       "      <td>0</td>\n",
       "      <td>0</td>\n",
       "      <td>13</td>\n",
       "      <td>1</td>\n",
       "      <td>1</td>\n",
       "    </tr>\n",
       "    <tr>\n",
       "      <th>2</th>\n",
       "      <td>38</td>\n",
       "      <td>2</td>\n",
       "      <td>9</td>\n",
       "      <td>0</td>\n",
       "      <td>5</td>\n",
       "      <td>1</td>\n",
       "      <td>4</td>\n",
       "      <td>1</td>\n",
       "      <td>0</td>\n",
       "      <td>0</td>\n",
       "      <td>40</td>\n",
       "      <td>1</td>\n",
       "      <td>1</td>\n",
       "    </tr>\n",
       "    <tr>\n",
       "      <th>3</th>\n",
       "      <td>53</td>\n",
       "      <td>2</td>\n",
       "      <td>7</td>\n",
       "      <td>2</td>\n",
       "      <td>5</td>\n",
       "      <td>0</td>\n",
       "      <td>2</td>\n",
       "      <td>1</td>\n",
       "      <td>0</td>\n",
       "      <td>0</td>\n",
       "      <td>40</td>\n",
       "      <td>1</td>\n",
       "      <td>1</td>\n",
       "    </tr>\n",
       "    <tr>\n",
       "      <th>4</th>\n",
       "      <td>28</td>\n",
       "      <td>2</td>\n",
       "      <td>13</td>\n",
       "      <td>2</td>\n",
       "      <td>9</td>\n",
       "      <td>5</td>\n",
       "      <td>2</td>\n",
       "      <td>0</td>\n",
       "      <td>0</td>\n",
       "      <td>0</td>\n",
       "      <td>40</td>\n",
       "      <td>0</td>\n",
       "      <td>1</td>\n",
       "    </tr>\n",
       "  </tbody>\n",
       "</table>\n",
       "</div>"
      ],
      "text/plain": [
       "   age  workclass  education-num  marital-status  occupation  relationship  \\\n",
       "0   39          5             13               4           0             1   \n",
       "1   50          4             13               2           3             0   \n",
       "2   38          2              9               0           5             1   \n",
       "3   53          2              7               2           5             0   \n",
       "4   28          2             13               2           9             5   \n",
       "\n",
       "   race  sex  capital-gain  capital-loss  hours-per-week  native-country  \\\n",
       "0     4    1          2174             0              40               1   \n",
       "1     4    1             0             0              13               1   \n",
       "2     4    1             0             0              40               1   \n",
       "3     2    1             0             0              40               1   \n",
       "4     2    0             0             0              40               0   \n",
       "\n",
       "   Salary  \n",
       "0       1  \n",
       "1       1  \n",
       "2       1  \n",
       "3       1  \n",
       "4       1  "
      ]
     },
     "execution_count": 305,
     "metadata": {},
     "output_type": "execute_result"
    }
   ],
   "source": [
    "df.head(5)"
   ]
  },
  {
   "cell_type": "markdown",
   "metadata": {},
   "source": [
    "## Summary of Nonlinear Logistic Regression"
   ]
  },
  {
   "cell_type": "markdown",
   "metadata": {},
   "source": [
    "The linear logistic regression that uses the softmax layer for classification along with a linear model. In nonlinear logistic regression extra layers are added called as hidden layers. With the inclusion of hidden layer the softmax function is used in the last layer. Till then the input layer passes its output to hidden layer, then the hidden layer to another hidden layer or softmax function and the softmax function then gives the output.\n",
    "\n",
    "$$\n",
    "wv_j \\leftarrow wv_j + \\alpha \\sum_{n=1}^{N} \\Big( t_{n,j} - g_j(xv_n)\\Big) xv_n.\n",
    " $$"
   ]
  },
  {
   "cell_type": "code",
   "execution_count": 306,
   "metadata": {},
   "outputs": [],
   "source": [
    "from nn import NeuralNet\n",
    "\n",
    "class NeuralNetLogReg(NeuralNet):\n",
    "    \"\"\" Nonlinear Logistic Regression\n",
    "    \"\"\"\n",
    "\n",
    "    # if you think, you need additional items to initialize here,\n",
    "    # add your code for it here\n",
    "    def __init__(self, nunits):\n",
    "        NeuralNet.__init__(self, nunits)\n",
    "\n",
    "    def softmax(self, z):\n",
    "        if not isinstance(z, np.ndarray):\n",
    "            z = np.asarray(z)\n",
    "        exp_z = np.exp(z) \n",
    "        return exp_z / (np.sum(exp_z, axis=1, keepdims=True) if len(z.shape) == 2 else np.sum(exp_z))\n",
    "\n",
    "    \n",
    "    def forward(self, X):\n",
    "        t = X \n",
    "        Z = []\n",
    "\n",
    "        for i in range(self._nLayers):\n",
    "            Z.append(t) \n",
    "            if i == self._nLayers - 1:\n",
    "                t = np.dot(self.add_ones(t), self._W[i])\n",
    "                t=self.softmax(t)\n",
    "            else:\n",
    "                t = np.tanh(np.dot(self.add_ones(t), self._W[i]))\n",
    "        return (t, Z)\n",
    "                \n",
    "\n",
    "    # This is the error function that we want to minimize\n",
    "    # what was it? take a look at the lecture note to fill in\n",
    "    def _objectf(self, T, Y, wpenalty):\n",
    "        return -(np.sum(T*(np.log(Y)))+wpenalty)\n",
    "\n",
    "    # you must reuse the NeuralNet train since you already modified\n",
    "    # the objective or error function (maybe both), \n",
    "    # you do not have many to change here.\n",
    "    # MAKE SURE convert a vector label T to indicator matrix and \n",
    "    # feed that for training\n",
    "    def train(self, X, T, **params):\n",
    "        verbose = params.pop('verbose', False)\n",
    "        # training parameters\n",
    "        _lambda = params.pop('Lambda', 0.)\n",
    "\n",
    "        #parameters for scg\n",
    "        niter = params.pop('niter', 1000)\n",
    "        wprecision = params.pop('wprecision', 1e-10)\n",
    "        fprecision = params.pop('fprecision', 1e-10)\n",
    "        wtracep = params.pop('wtracep', False)\n",
    "        ftracep = params.pop('ftracep', False)\n",
    "\n",
    "        # optimization\n",
    "        optim = params.pop('optim', 'scg')\n",
    "                \n",
    "        def gradientf(weights):\n",
    "            self.unpack(weights)\n",
    "            Y,Z = self.forward(X)\n",
    "            error = self._errorf(T, Y)\n",
    "            return self.backward(error, Z, T, _lambda)\n",
    "            \n",
    "        def optimtargetf(weights):\n",
    "            \"\"\" optimization target function : MSE \n",
    "            \"\"\"\n",
    "            self.unpack(weights)\n",
    "            #self._weights[:] = weights[:]  # unpack\n",
    "            Y,_ = self.forward(X)\n",
    "            Wnb=np.array([])\n",
    "            for i in range(self._nLayers):\n",
    "                if len(Wnb)==0: Wnb=self._W[i][1:,].reshape(self._W[i].size-self._W[i][0,].size,1)\n",
    "                else: Wnb = np.vstack((Wnb,self._W[i][1:,].reshape(self._W[i].size-self._W[i][0,].size,1)))\n",
    "            wpenalty = _lambda * np.dot(Wnb.flat ,Wnb.flat)\n",
    "            return self._objectf(T, Y, wpenalty)\n",
    "            \n",
    "        if optim == 'scg':\n",
    "            res = scg(self.cp_weight(), gradientf, optimtargetf,\n",
    "                                        wPrecision=wprecision, fPrecision=fprecision, \n",
    "                                        nIterations=niter,\n",
    "                                        wtracep=wtracep, ftracep=ftracep,\n",
    "                                        verbose=False)\n",
    "            self.unpack(res['w'][:])\n",
    "            self.f = res['f']\n",
    "        elif optim == 'steepest':\n",
    "            res = steepest(self.cp_weight(), gradientf, optimtargetf,\n",
    "                                nIterations=niter,\n",
    "                                xPrecision=wprecision, fPrecision=fprecision,\n",
    "                                xtracep=wtracep, ftracep=ftracep )\n",
    "            self.unpack(res['w'][:])\n",
    "        if ftracep:\n",
    "            self.ftrace = res['ftrace']\n",
    "        if 'reason' in res.keys() and verbose:\n",
    "            print(res['reason'])\n",
    "\n",
    "    # going through forward pass, you will have the probabilities for each label\n",
    "    # now, you can use argmax to find class labels\n",
    "    # return both label and probabilities        \n",
    "    def use(self, X):\n",
    "        Y, Z = self.forward(X)\n",
    "        l=np.argmax(Y,1)\n",
    "        return Y,l"
   ]
  },
  {
   "cell_type": "markdown",
   "metadata": {},
   "source": [
    "## Explanation of Code"
   ]
  },
  {
   "cell_type": "markdown",
   "metadata": {},
   "source": [
    "The NeuralNetLogReg contains the following functions:\n",
    "\n",
    "1. init function is a constructor of the class which calls the NeuralNet class' constructor for assigning values to nLayers i.e the number of layers for the model.<br><br>\n",
    "2. _nLayers is the number of hidden unit layers.<br><br>\n",
    "3. rho is the learning rate attribute of the class.<br><br>\n",
    "4. The train function takes the feautures and the target as the input. The gradientf unpacks the weights and it proceeds with the forward pass by calling forward function. Now error is calculated using results of forward pass. Now back propagation is proceeded by calling backward function with parameters as error, Z, T(Target), _lambda.<br><br>\n",
    "5. Forward pass in neural network propagates same as in the class discussed above the only difference is that and an additional t=self.softmax(t) is added to the last layer. The last layer will be the softmax function which then gives output to the output layer."
   ]
  },
  {
   "cell_type": "code",
   "execution_count": 307,
   "metadata": {},
   "outputs": [],
   "source": [
    "def add_ones(w):\n",
    "    return np.hstack((np.ones((w.shape[0], 1)), w))"
   ]
  },
  {
   "cell_type": "code",
   "execution_count": 308,
   "metadata": {},
   "outputs": [],
   "source": [
    "from sklearn.metrics import precision_score, recall_score, confusion_matrix, classification_report, accuracy_score, f1_score"
   ]
  },
  {
   "cell_type": "code",
   "execution_count": 309,
   "metadata": {},
   "outputs": [],
   "source": [
    "from sklearn.preprocessing import StandardScaler\n",
    "sc=StandardScaler()"
   ]
  },
  {
   "cell_type": "code",
   "execution_count": 310,
   "metadata": {},
   "outputs": [],
   "source": [
    "from sklearn.metrics import roc_curve, auc"
   ]
  },
  {
   "cell_type": "markdown",
   "metadata": {},
   "source": [
    "## Testing model with Toy Data"
   ]
  },
  {
   "cell_type": "code",
   "execution_count": 311,
   "metadata": {},
   "outputs": [
    {
     "data": {
      "text/plain": [
       "Text(0.5, 1.0, 'test data set')"
      ]
     },
     "execution_count": 311,
     "metadata": {},
     "output_type": "execute_result"
    },
    {
     "data": {
      "image/png": "[encoded data removed]",
      "text/plain": [
       "<Figure size 864x648 with 1 Axes>"
      ]
     },
     "metadata": {
      "needs_background": "light"
     },
     "output_type": "display_data"
    },
    {
     "data": {
      "image/png": "[encoded data removed]",
      "text/plain": [
       "<Figure size 864x648 with 1 Axes>"
      ]
     },
     "metadata": {
      "needs_background": "light"
     },
     "output_type": "display_data"
    }
   ],
   "source": [
    "# Data for testing\n",
    "N1 = 50\n",
    "N2 = 50\n",
    "N = N1 + N2\n",
    "D = 2\n",
    "K = 2\n",
    "\n",
    "mu1 = [-1, -1]\n",
    "cov1 = np.eye(2)\n",
    "\n",
    "mu2 = [2,3]\n",
    "cov2 = np.eye(2) * 3\n",
    "\n",
    "#\n",
    "#  Train Data\n",
    "#\n",
    "C1 = np.random.multivariate_normal(mu1, cov1, N1)\n",
    "C2 = np.random.multivariate_normal(mu2, cov2, N2)\n",
    "\n",
    "plt.plot(C1[:, 0], C1[:, 1], 'or')\n",
    "plt.plot(C2[:, 0], C2[:, 1], 'xb')\n",
    "\n",
    "plt.xlim([-3, 6])\n",
    "plt.ylim([-3, 7])\n",
    "plt.title(\"training data set\")\n",
    "\n",
    "Xtrain = np.vstack((C1, C2))\n",
    "Ttrain = np.zeros((N, 1))\n",
    "Ttrain[50:, :] = 1  # labels are zero or one\n",
    "\n",
    "means, stds = np.mean(Xtrain, 0), np.std(Xtrain, 0)\n",
    "# normalize inputs\n",
    "Xtrains = (Xtrain - means) / stds\n",
    "\n",
    "#\n",
    "#  Test Data\n",
    "#\n",
    "Ct1 = np.random.multivariate_normal(mu1, cov1, 20)\n",
    "Ct2 = np.random.multivariate_normal(mu2, cov2, 20)\n",
    "\n",
    "Xtest = np.vstack((Ct1, Ct2))\n",
    "Ttest = np.zeros((40, 1))\n",
    "Ttest[20:, :] = 1\n",
    "\n",
    "# normalize inputs\n",
    "Xtests = (Xtrain - means) / stds\n",
    "\n",
    "\n",
    "plt.figure()\n",
    "plt.plot(Ct1[:, 0], Ct1[:, 1], 'or')\n",
    "plt.plot(Ct2[:, 0], Ct2[:, 1], 'xb')\n",
    "\n",
    "plt.xlim([-3, 6])\n",
    "plt.ylim([-3, 7])\n",
    "plt.title(\"test data set\")"
   ]
  },
  {
   "cell_type": "code",
   "execution_count": 312,
   "metadata": {},
   "outputs": [
    {
     "name": "stderr",
     "output_type": "stream",
     "text": [
      "C:\\Users\\Gopal\\nn.py:113: FutureWarning: arrays to stack must be passed as a \"sequence\" type such as list or tuple. Support for non-sequence iterables such as generators is deprecated as of NumPy 1.16 and will raise an error in the future.\n",
      "  return np.hstack(map(np.ravel, w))\n",
      "C:\\Users\\Gopal\\Anaconda3\\lib\\site-packages\\ipykernel_launcher.py:16: RuntimeWarning: invalid value encountered in true_divide\n",
      "  app.launch_new_instance()\n"
     ]
    }
   ],
   "source": [
    "clsf = NeuralNetLogReg([2, 4, 2])\n",
    "clsf.train(Xtrain, Ttrain)\n",
    "classes, Y = clsf.use(Xtest)"
   ]
  },
  {
   "cell_type": "code",
   "execution_count": 313,
   "metadata": {},
   "outputs": [
    {
     "data": {
      "text/plain": [
       "array([1, 1, 1, 1, 1, 1, 0, 1, 1, 1, 1, 1, 1, 1, 0, 1, 1, 1, 1, 1, 0, 0,\n",
       "       0, 0, 0, 0, 0, 0, 0, 0, 0, 0, 0, 0, 0, 0, 0, 0, 0, 0], dtype=int64)"
      ]
     },
     "execution_count": 313,
     "metadata": {},
     "output_type": "execute_result"
    }
   ],
   "source": [
    "Y"
   ]
  },
  {
   "cell_type": "code",
   "execution_count": 314,
   "metadata": {},
   "outputs": [
    {
     "data": {
      "text/plain": [
       "array([[0.48292183, 0.51707817],\n",
       "       [0.48269813, 0.51730187],\n",
       "       [0.47994172, 0.52005828],\n",
       "       [0.49173903, 0.50826097],\n",
       "       [0.48866365, 0.51133635],\n",
       "       [0.49253303, 0.50746697],\n",
       "       [0.5017529 , 0.4982471 ],\n",
       "       [0.48589997, 0.51410003],\n",
       "       [0.49977799, 0.50022201],\n",
       "       [0.49402135, 0.50597865],\n",
       "       [0.49538983, 0.50461017],\n",
       "       [0.48787514, 0.51212486],\n",
       "       [0.49153282, 0.50846718],\n",
       "       [0.48349062, 0.51650938],\n",
       "       [0.50461147, 0.49538853],\n",
       "       [0.49332079, 0.50667921],\n",
       "       [0.49425164, 0.50574836],\n",
       "       [0.48923249, 0.51076751],\n",
       "       [0.48944626, 0.51055374],\n",
       "       [0.49395383, 0.50604617],\n",
       "       [0.51552487, 0.48447513],\n",
       "       [0.5377811 , 0.4622189 ],\n",
       "       [0.55556213, 0.44443787],\n",
       "       [0.56028736, 0.43971264],\n",
       "       [0.51474745, 0.48525255],\n",
       "       [0.5373528 , 0.4626472 ],\n",
       "       [0.5286863 , 0.4713137 ],\n",
       "       [0.53495095, 0.46504905],\n",
       "       [0.52788233, 0.47211767],\n",
       "       [0.54919178, 0.45080822],\n",
       "       [0.52958168, 0.47041832],\n",
       "       [0.54400724, 0.45599276],\n",
       "       [0.53334015, 0.46665985],\n",
       "       [0.55455458, 0.44544542],\n",
       "       [0.546435  , 0.453565  ],\n",
       "       [0.54579925, 0.45420075],\n",
       "       [0.52026768, 0.47973232],\n",
       "       [0.52487179, 0.47512821],\n",
       "       [0.53597652, 0.46402348],\n",
       "       [0.54019117, 0.45980883]])"
      ]
     },
     "execution_count": 314,
     "metadata": {},
     "output_type": "execute_result"
    }
   ],
   "source": [
    "classes"
   ]
  },
  {
   "cell_type": "code",
   "execution_count": 315,
   "metadata": {},
   "outputs": [
    {
     "name": "stdout",
     "output_type": "stream",
     "text": [
      "Accuracy:  50.0 %\n"
     ]
    },
    {
     "data": {
      "image/png": "[encoded data removed]",
      "text/plain": [
       "<Figure size 864x648 with 1 Axes>"
      ]
     },
     "metadata": {
      "needs_background": "light"
     },
     "output_type": "display_data"
    }
   ],
   "source": [
    "plt.plot(Ttest)\n",
    "plt.plot(Y)\n",
    "\n",
    "print(\"Accuracy: \", 100 - np.mean(np.abs(Ttest - Y)) * 100, \"%\")"
   ]
  },
  {
   "cell_type": "code",
   "execution_count": 316,
   "metadata": {},
   "outputs": [
    {
     "data": {
      "text/plain": [
       "[<matplotlib.lines.Line2D at 0x22b0ddfcba8>]"
      ]
     },
     "execution_count": 316,
     "metadata": {},
     "output_type": "execute_result"
    },
    {
     "data": {
      "image/png": "[encoded data removed]",
      "text/plain": [
       "<Figure size 432x432 with 1 Axes>"
      ]
     },
     "metadata": {
      "needs_background": "light"
     },
     "output_type": "display_data"
    }
   ],
   "source": [
    "x = np.linspace(-3, 6, 1000)\n",
    "y = np.linspace(-3, 7, 1000)\n",
    "\n",
    "xs, ys = np.meshgrid(x, y)\n",
    "\n",
    "X = np.vstack((xs.flat, ys.flat)).T\n",
    "classes, _ = clsf.use(X)\n",
    "zs = _.reshape(xs.shape)\n",
    "\n",
    "plt.figure(figsize=(6,6))\n",
    "plt.contourf(xs, ys, zs.reshape(xs.shape))\n",
    "plt.title(\"Decision Boundary\")\n",
    "\n",
    "plt.plot(Ct1[:, 0], Ct1[:, 1], 'or')\n",
    "plt.plot(Ct2[:, 0], Ct2[:, 1], 'xb')"
   ]
  },
  {
   "cell_type": "markdown",
   "metadata": {},
   "source": [
    "## Discussion about Toy Data"
   ]
  },
  {
   "cell_type": "markdown",
   "metadata": {},
   "source": [
    "The code works well with 50% accuracy. Hence, we can say that our NeuralNetLogReg class is working."
   ]
  },
  {
   "cell_type": "markdown",
   "metadata": {},
   "source": [
    "## Testing on Classification Dataset"
   ]
  },
  {
   "cell_type": "code",
   "execution_count": 317,
   "metadata": {},
   "outputs": [],
   "source": [
    "XTrain, XTest, YTrain, YTest = model_selection.train_test_split(dframe_lr, y_dframe,test_size=0.20,random_state=42)"
   ]
  },
  {
   "cell_type": "code",
   "execution_count": 318,
   "metadata": {},
   "outputs": [],
   "source": [
    "T = add_ones(np.array(YTrain).reshape(-1,1))\n",
    "T=T.astype(int)\n",
    "T[:,0]=T[:,1]\n",
    "T[T[:,0]==1]=0\n",
    "(T[:,1])[T[:,1]==0]=1\n",
    "(T[:,0])[T[:,0]==-1]=1\n",
    "T[T==-1]=0"
   ]
  },
  {
   "cell_type": "code",
   "execution_count": 319,
   "metadata": {},
   "outputs": [
    {
     "name": "stderr",
     "output_type": "stream",
     "text": [
      "C:\\Users\\Gopal\\nn.py:113: FutureWarning: arrays to stack must be passed as a \"sequence\" type such as list or tuple. Support for non-sequence iterables such as generators is deprecated as of NumPy 1.16 and will raise an error in the future.\n",
      "  return np.hstack(map(np.ravel, w))\n",
      "C:\\Users\\Gopal\\Anaconda3\\lib\\site-packages\\ipykernel_launcher.py:16: RuntimeWarning: invalid value encountered in true_divide\n",
      "  app.launch_new_instance()\n",
      "C:\\Users\\Gopal\\Anaconda3\\lib\\site-packages\\ipykernel_launcher.py:36: RuntimeWarning: divide by zero encountered in log\n",
      "C:\\Users\\Gopal\\Anaconda3\\lib\\site-packages\\ipykernel_launcher.py:36: RuntimeWarning: invalid value encountered in multiply\n"
     ]
    }
   ],
   "source": [
    "nn = NeuralNetLogReg([12,4,2])\n",
    "nn.train(sc.fit_transform(XTrain), T, niter=1000) \n",
    "p,l = nn.use(sc.fit_transform(XTest))"
   ]
  },
  {
   "cell_type": "markdown",
   "metadata": {},
   "source": [
    "## Plots and Results"
   ]
  },
  {
   "cell_type": "code",
   "execution_count": 320,
   "metadata": {},
   "outputs": [
    {
     "name": "stdout",
     "output_type": "stream",
     "text": [
      "F1 score: 0.9032670001064169\n",
      "Accuracy: 0.8493286921929388\n"
     ]
    }
   ],
   "source": [
    "y_test=np.where(YTest==-1,0,1)\n",
    "print('F1 score:', f1_score(y_test, l))\n",
    "print('Accuracy:', accuracy_score(y_test, l))"
   ]
  },
  {
   "cell_type": "code",
   "execution_count": 321,
   "metadata": {},
   "outputs": [
    {
     "data": {
      "text/plain": [
       "[<matplotlib.lines.Line2D at 0x22b0e39f7f0>]"
      ]
     },
     "execution_count": 321,
     "metadata": {},
     "output_type": "execute_result"
    },
    {
     "data": {
      "image/png": "[encoded data removed]",
      "text/plain": [
       "<Figure size 864x648 with 1 Axes>"
      ]
     },
     "metadata": {
      "needs_background": "light"
     },
     "output_type": "display_data"
    }
   ],
   "source": [
    "plt.plot(np.sort(y_test))\n",
    "plt.plot(np.sort(l))"
   ]
  },
  {
   "cell_type": "code",
   "execution_count": 322,
   "metadata": {},
   "outputs": [],
   "source": [
    "cf3=confusion_matrix(y_test, l)\n",
    "cf3\n",
    "TP=cf3[1][1]\n",
    "TN=cf3[0][0]\n",
    "FN=cf3[1][0]\n",
    "FP=cf3[0][1]"
   ]
  },
  {
   "cell_type": "code",
   "execution_count": 323,
   "metadata": {},
   "outputs": [],
   "source": [
    "precision=TP/(TP+FP)\n",
    "specificity=TN/(TN+FP)\n",
    "recall=TP/(TP+FN)"
   ]
  },
  {
   "cell_type": "code",
   "execution_count": 324,
   "metadata": {},
   "outputs": [
    {
     "name": "stdout",
     "output_type": "stream",
     "text": [
      "Precision:  0.8671843073150797\n",
      "Specificity:  0.5751633986928104\n",
      "Recall:  0.94248278925161\n"
     ]
    }
   ],
   "source": [
    "print('Precision: ' ,precision)\n",
    "print('Specificity: ' ,specificity)\n",
    "print('Recall: ' ,recall)"
   ]
  },
  {
   "cell_type": "code",
   "execution_count": 325,
   "metadata": {},
   "outputs": [
    {
     "data": {
      "text/plain": [
       "Text(0.5, 1, 'Confusion Matrix')"
      ]
     },
     "execution_count": 325,
     "metadata": {},
     "output_type": "execute_result"
    },
    {
     "data": {
      "image/png": "[encoded data removed]",
      "text/plain": [
       "<Figure size 864x648 with 2 Axes>"
      ]
     },
     "metadata": {
      "needs_background": "light"
     },
     "output_type": "display_data"
    }
   ],
   "source": [
    "ax= plt.subplot()\n",
    "sns.heatmap(cf3, annot=True, ax = ax);\n",
    "\n",
    "ax.set_xlabel('Predicted labels');\n",
    "ax.set_ylabel('True labels'); \n",
    "ax.set_title('Confusion Matrix')"
   ]
  },
  {
   "cell_type": "code",
   "execution_count": 326,
   "metadata": {},
   "outputs": [
    {
     "data": {
      "image/png": "[encoded data removed]",
      "text/plain": [
       "<Figure size 864x648 with 1 Axes>"
      ]
     },
     "metadata": {
      "needs_background": "light"
     },
     "output_type": "display_data"
    }
   ],
   "source": [
    "false_positive_rate, true_positive_rate, thresholds = roc_curve(y_test, l)\n",
    "roc_auc = auc(false_positive_rate, true_positive_rate)\n",
    "\n",
    "\n",
    "##Plotting now\n",
    "plt.plot(false_positive_rate, true_positive_rate, 'b',\n",
    "label='AUC = %0.2f'% roc_auc)\n",
    "plt.legend(loc='lower right')\n",
    "plt.plot([0,1],[0,1],'r--')\n",
    "plt.xlim([-0.1,1.2])\n",
    "plt.ylim([-0.1,1.2])\n",
    "plt.ylabel('True Positive Rate')\n",
    "plt.xlabel('False Positive Rate')\n",
    "plt.show()"
   ]
  },
  {
   "cell_type": "code",
   "execution_count": 327,
   "metadata": {},
   "outputs": [
    {
     "data": {
      "image/png": "[encoded data removed]",
      "text/plain": [
       "<Figure size 864x648 with 1 Axes>"
      ]
     },
     "metadata": {
      "needs_background": "light"
     },
     "output_type": "display_data"
    },
    {
     "data": {
      "image/png": "[encoded data removed]",
      "text/plain": [
       "<Figure size 864x648 with 1 Axes>"
      ]
     },
     "metadata": {
      "needs_background": "light"
     },
     "output_type": "display_data"
    },
    {
     "data": {
      "image/png": "[encoded data removed]",
      "text/plain": [
       "<Figure size 864x648 with 1 Axes>"
      ]
     },
     "metadata": {
      "needs_background": "light"
     },
     "output_type": "display_data"
    }
   ],
   "source": [
    "plt.title(\"Y prediction\")\n",
    "plt.plot(l[0:100])\n",
    "plt.show()\n",
    "plt.title(\"Y test\")\n",
    "plt.plot(np.array(y_test[0:100]))\n",
    "plt.show()\n",
    "plt.title(\"Y test vs Y pred\")\n",
    "plt.plot(l[0:100])\n",
    "plt.plot(np.array(y_test[0:100]))\n",
    "plt.show()"
   ]
  },
  {
   "cell_type": "markdown",
   "metadata": {},
   "source": [
    "## Cross validation code for nonlinear logistic regression"
   ]
  },
  {
   "cell_type": "code",
   "execution_count": 328,
   "metadata": {},
   "outputs": [],
   "source": [
    "def split(s):\n",
    "    avg = len(s) / 5.0\n",
    "    out = []\n",
    "    last = 0.0\n",
    "    while last < len(s):\n",
    "        out.append(s[int(last):int(last + avg)])\n",
    "        last += avg\n",
    "    return out\n",
    "\n",
    "final_list=[]\n",
    "best_paramlist=[]\n",
    "def cross_validate(X, T, parameters):\n",
    "    partX = split(X)\n",
    "    partT = split(T)\n",
    "    for test in range(5): \n",
    "        print(\"test\",test)\n",
    "        Xtst = partX[test]\n",
    "        Ttst = partT[test]\n",
    "        j = 0\n",
    "        \n",
    "        history_rmse=[]\n",
    "        params=[]\n",
    "        for val in range(5): \n",
    "            print(\"val\",val)\n",
    "            if test == val: continue\n",
    "            \n",
    "            Xval = partX[val]\n",
    "            Tval = partT[val]\n",
    "            \n",
    "            Xtrn = partX[not test and not val]\n",
    "            Ttrn = partT[not test and not val]\n",
    "            \n",
    "            i = 0\n",
    "            flist=[]\n",
    "            paramlist=[]\n",
    "            for param in parameters:\n",
    "                \n",
    "                model = NeuralNetLogReg(param)\n",
    "                model.train(Xtrn, Ttrn)\n",
    "                prob,pred = model.use(Xval)\n",
    "                Tval1=Tval[:,0]\n",
    "                Tval1=np.where(Tval1==0,1,0)\n",
    "                valAcc = f1_score(Tval1, pred)\n",
    "                flist.append(valAcc)\n",
    "                paramlist.append(param)\n",
    "            print(flist)\n",
    "            print(paramlist)\n",
    "            #avg=sum(rmselist)/len(rmselist)\n",
    "            #history_rmse.append(avg)\n",
    "            print(max(flist))\n",
    "            print(paramlist[np.argmax(flist)])\n",
    "            history_rmse.append(max(flist))\n",
    "            params.append(paramlist[np.argmax(flist)])\n",
    "        print(\"history_rmse\",history_rmse)\n",
    "        print(\"params\",params)\n",
    "        #print(rmselist)\n",
    "        print(history_rmse)\n",
    "        print(params)\n",
    "        bestParam = params[np.argmax(history_rmse)]\n",
    "        print(bestParam)\n",
    "        bestModel = NeuralNetLogReg(bestParam)\n",
    "        \n",
    "        Xtrn = partX[not test]\n",
    "        Ttrn = partT[not test]\n",
    "        bestModel.train(Xtrn, Ttrn)\n",
    "\n",
    "        prob1,finalPred = bestModel.use(Xtst)\n",
    "        Ttst1=Ttst[:,0]\n",
    "        Ttst1=np.where(Ttst1==0,1,0)\n",
    "        myf1 = f1_score(Ttst1, finalPred)\n",
    "        final_list.append(myf1)\n",
    "        best_paramlist.append(bestParam)\n",
    "\n",
    "    return final_list,best_paramlist"
   ]
  },
  {
   "cell_type": "code",
   "execution_count": 329,
   "metadata": {},
   "outputs": [],
   "source": [
    "T = add_ones(np.array(y_dframe).reshape(-1,1))\n",
    "T=T.astype(int)\n",
    "T[:,0]=T[:,1]\n",
    "T[T[:,0]==1]=0\n",
    "(T[:,1])[T[:,1]==0]=1\n",
    "(T[:,0])[T[:,0]==-1]=1\n",
    "T[T==-1]=0"
   ]
  },
  {
   "cell_type": "code",
   "execution_count": 330,
   "metadata": {},
   "outputs": [
    {
     "name": "stdout",
     "output_type": "stream",
     "text": [
      "test 0\n",
      "val 0\n",
      "val 1\n"
     ]
    },
    {
     "name": "stderr",
     "output_type": "stream",
     "text": [
      "C:\\Users\\Gopal\\nn.py:113: FutureWarning: arrays to stack must be passed as a \"sequence\" type such as list or tuple. Support for non-sequence iterables such as generators is deprecated as of NumPy 1.16 and will raise an error in the future.\n",
      "  return np.hstack(map(np.ravel, w))\n",
      "C:\\Users\\Gopal\\Anaconda3\\lib\\site-packages\\ipykernel_launcher.py:16: RuntimeWarning: invalid value encountered in true_divide\n",
      "  app.launch_new_instance()\n",
      "C:\\Users\\Gopal\\Anaconda3\\lib\\site-packages\\ipykernel_launcher.py:36: RuntimeWarning: divide by zero encountered in log\n",
      "C:\\Users\\Gopal\\Anaconda3\\lib\\site-packages\\ipykernel_launcher.py:36: RuntimeWarning: invalid value encountered in multiply\n"
     ]
    },
    {
     "name": "stdout",
     "output_type": "stream",
     "text": [
      "[0.8782236383550732, 0.8790290489454835, 0.8775286497259591, 0.8780635400907717]\n",
      "[[12, 5, 2], [12, 7, 2], [12, 9, 2], [12, 12, 2]]\n",
      "0.8790290489454835\n",
      "[12, 7, 2]\n",
      "val 2\n",
      "[0.8791549568756661, 0.8660632563815722, 0.875251509054326, 0.8788524907927894]\n",
      "[[12, 5, 2], [12, 7, 2], [12, 9, 2], [12, 12, 2]]\n",
      "0.8791549568756661\n",
      "[12, 5, 2]\n",
      "val 3\n",
      "[0.8767640628105744, 0.8764132553606239, 0.8878580072609924, 0.875390015600624]\n",
      "[[12, 5, 2], [12, 7, 2], [12, 9, 2], [12, 12, 2]]\n",
      "0.8878580072609924\n",
      "[12, 9, 2]\n",
      "val 4\n",
      "[0.8747738693467337, 0.8706930693069306, 0.871904812948869, 0.8810833685992383]\n",
      "[[12, 5, 2], [12, 7, 2], [12, 9, 2], [12, 12, 2]]\n",
      "0.8810833685992383\n",
      "[12, 12, 2]\n",
      "history_rmse [0.8790290489454835, 0.8791549568756661, 0.8878580072609924, 0.8810833685992383]\n",
      "params [[12, 7, 2], [12, 5, 2], [12, 9, 2], [12, 12, 2]]\n",
      "[0.8790290489454835, 0.8791549568756661, 0.8878580072609924, 0.8810833685992383]\n",
      "[[12, 7, 2], [12, 5, 2], [12, 9, 2], [12, 12, 2]]\n",
      "[12, 9, 2]\n",
      "test 1\n",
      "val 0\n",
      "[0.8782532410566333, 0.877365101611773, 0.8750501403931007, 0.8765259155493295]\n",
      "[[12, 5, 2], [12, 7, 2], [12, 9, 2], [12, 12, 2]]\n",
      "0.8782532410566333\n",
      "[12, 5, 2]\n",
      "val 1\n",
      "val 2\n",
      "[0.875883348263163, 0.8794491319949569, 0.8767177853017326, 0.8751962323390895]\n",
      "[[12, 5, 2], [12, 7, 2], [12, 9, 2], [12, 12, 2]]\n",
      "0.8794491319949569\n",
      "[12, 7, 2]\n",
      "val 3\n",
      "[0.8745749149829966, 0.87374949979992, 0.87341138797158, 0.8725853267941147]\n",
      "[[12, 5, 2], [12, 7, 2], [12, 9, 2], [12, 12, 2]]\n",
      "0.8745749149829966\n",
      "[12, 5, 2]\n",
      "val 4\n",
      "[0.8755121951219512, 0.8746490172482952, 0.8734915526950925, 0.8738449176376054]\n",
      "[[12, 5, 2], [12, 7, 2], [12, 9, 2], [12, 12, 2]]\n",
      "0.8755121951219512\n",
      "[12, 5, 2]\n",
      "history_rmse [0.8782532410566333, 0.8794491319949569, 0.8745749149829966, 0.8755121951219512]\n",
      "params [[12, 5, 2], [12, 7, 2], [12, 5, 2], [12, 5, 2]]\n",
      "[0.8782532410566333, 0.8794491319949569, 0.8745749149829966, 0.8755121951219512]\n",
      "[[12, 5, 2], [12, 7, 2], [12, 5, 2], [12, 5, 2]]\n",
      "[12, 7, 2]\n",
      "test 2\n",
      "val 0\n",
      "[0.8701377633711508, 0.8783295931310372, 0.8778871455023877, 0.8695385245062927]\n",
      "[[12, 5, 2], [12, 7, 2], [12, 9, 2], [12, 12, 2]]\n",
      "0.8783295931310372\n",
      "[12, 7, 2]\n",
      "val 1\n",
      "[0.8782038545599046, 0.8781847133757962, 0.8795602198900551, 0.8785977492281645]\n",
      "[[12, 5, 2], [12, 7, 2], [12, 9, 2], [12, 12, 2]]\n",
      "0.8795602198900551\n",
      "[12, 9, 2]\n",
      "val 2\n",
      "val 3\n",
      "[0.8761960554579183, 0.875657766517248, 0.8734620386115833, 0.8766849725411882]\n",
      "[[12, 5, 2], [12, 7, 2], [12, 9, 2], [12, 12, 2]]\n",
      "0.8766849725411882\n",
      "[12, 12, 2]\n",
      "val 4\n",
      "[0.8746478873239436, 0.8742214185252161, 0.8759280969128567, 0.8709775657293677]\n",
      "[[12, 5, 2], [12, 7, 2], [12, 9, 2], [12, 12, 2]]\n",
      "0.8759280969128567\n",
      "[12, 9, 2]\n",
      "history_rmse [0.8783295931310372, 0.8795602198900551, 0.8766849725411882, 0.8759280969128567]\n",
      "params [[12, 7, 2], [12, 9, 2], [12, 12, 2], [12, 9, 2]]\n",
      "[0.8783295931310372, 0.8795602198900551, 0.8766849725411882, 0.8759280969128567]\n",
      "[[12, 7, 2], [12, 9, 2], [12, 12, 2], [12, 9, 2]]\n",
      "[12, 9, 2]\n",
      "test 3\n",
      "val 0\n",
      "[0.877035261212666, 0.8742599096838937, 0.8756148981026001, 0.8766214766409832]\n",
      "[[12, 5, 2], [12, 7, 2], [12, 9, 2], [12, 12, 2]]\n",
      "0.877035261212666\n",
      "[12, 5, 2]\n",
      "val 1\n",
      "[0.878073056633821, 0.8799458256747605, 0.8782089552238805, 0.8795011064172199]\n",
      "[[12, 5, 2], [12, 7, 2], [12, 9, 2], [12, 12, 2]]\n",
      "0.8799458256747605\n",
      "[12, 7, 2]\n",
      "val 2\n",
      "[0.8764829030006979, 0.8766686590954372, 0.8789611396453144, 0.8786115958890828]\n",
      "[[12, 5, 2], [12, 7, 2], [12, 9, 2], [12, 12, 2]]\n",
      "0.8789611396453144\n",
      "[12, 9, 2]\n",
      "val 3\n",
      "val 4\n",
      "[0.8766989341938007, 0.8741575294235993, 0.8752383820134497, 0.8739174219536758]\n",
      "[[12, 5, 2], [12, 7, 2], [12, 9, 2], [12, 12, 2]]\n",
      "0.8766989341938007\n",
      "[12, 5, 2]\n",
      "history_rmse [0.877035261212666, 0.8799458256747605, 0.8789611396453144, 0.8766989341938007]\n",
      "params [[12, 5, 2], [12, 7, 2], [12, 9, 2], [12, 5, 2]]\n",
      "[0.877035261212666, 0.8799458256747605, 0.8789611396453144, 0.8766989341938007]\n",
      "[[12, 5, 2], [12, 7, 2], [12, 9, 2], [12, 5, 2]]\n",
      "[12, 7, 2]\n",
      "test 4\n",
      "val 0\n",
      "[0.8754891140764522, 0.8781533067108211, 0.8750376392652816, 0.8774973199493227]\n",
      "[[12, 5, 2], [12, 7, 2], [12, 9, 2], [12, 12, 2]]\n",
      "0.8781533067108211\n",
      "[12, 7, 2]\n",
      "val 1\n",
      "[0.8780779583291796, 0.8788693142231512, 0.8801346134811442, 0.879506074487154]\n",
      "[[12, 5, 2], [12, 7, 2], [12, 9, 2], [12, 12, 2]]\n",
      "0.8801346134811442\n",
      "[12, 9, 2]\n",
      "val 2\n",
      "[0.8761828867417075, 0.8790675084992714, 0.8759458383114297, 0.8761335326357748]\n",
      "[[12, 5, 2], [12, 7, 2], [12, 9, 2], [12, 12, 2]]\n",
      "0.8790675084992714\n",
      "[12, 7, 2]\n",
      "val 3\n",
      "[0.8736483780536644, 0.8743245947568541, 0.8685408829934665, 0.861041436741246]\n",
      "[[12, 5, 2], [12, 7, 2], [12, 9, 2], [12, 12, 2]]\n",
      "0.8743245947568541\n",
      "[12, 7, 2]\n",
      "val 4\n",
      "history_rmse [0.8781533067108211, 0.8801346134811442, 0.8790675084992714, 0.8743245947568541]\n",
      "params [[12, 7, 2], [12, 9, 2], [12, 7, 2], [12, 7, 2]]\n",
      "[0.8781533067108211, 0.8801346134811442, 0.8790675084992714, 0.8743245947568541]\n",
      "[[12, 7, 2], [12, 9, 2], [12, 7, 2], [12, 7, 2]]\n",
      "[12, 9, 2]\n"
     ]
    }
   ],
   "source": [
    "models = [[12,5,2], [12,7,2],[12,9,2], [12,12,2]]\n",
    "bestAccuracy,bestParam = (cross_validate(np.array(dframe_lr), T, models))"
   ]
  },
  {
   "cell_type": "markdown",
   "metadata": {},
   "source": [
    "## Testing with Optimum parameters"
   ]
  },
  {
   "cell_type": "code",
   "execution_count": 331,
   "metadata": {},
   "outputs": [
    {
     "name": "stdout",
     "output_type": "stream",
     "text": [
      "[0.8771827138815724, 0.8786460925833749, 0.8795040681906239, 0.8736989591673339, 0.8756218905472638]\n",
      "[[12, 9, 2], [12, 7, 2], [12, 9, 2], [12, 7, 2], [12, 9, 2]]\n"
     ]
    }
   ],
   "source": [
    "print(bestAccuracy)\n",
    "print(bestParam)"
   ]
  },
  {
   "cell_type": "code",
   "execution_count": 332,
   "metadata": {},
   "outputs": [],
   "source": [
    "T = add_ones(np.array(YTrain).reshape(-1,1))\n",
    "T=T.astype(int)\n",
    "T[:,0]=T[:,1]\n",
    "T[T[:,0]==1]=0\n",
    "(T[:,1])[T[:,1]==0]=1\n",
    "(T[:,0])[T[:,0]==-1]=1\n",
    "T[T==-1]=0"
   ]
  },
  {
   "cell_type": "code",
   "execution_count": 333,
   "metadata": {},
   "outputs": [
    {
     "name": "stderr",
     "output_type": "stream",
     "text": [
      "C:\\Users\\Gopal\\nn.py:113: FutureWarning: arrays to stack must be passed as a \"sequence\" type such as list or tuple. Support for non-sequence iterables such as generators is deprecated as of NumPy 1.16 and will raise an error in the future.\n",
      "  return np.hstack(map(np.ravel, w))\n",
      "C:\\Users\\Gopal\\Anaconda3\\lib\\site-packages\\ipykernel_launcher.py:16: RuntimeWarning: invalid value encountered in true_divide\n",
      "  app.launch_new_instance()\n",
      "C:\\Users\\Gopal\\Anaconda3\\lib\\site-packages\\ipykernel_launcher.py:36: RuntimeWarning: divide by zero encountered in log\n",
      "C:\\Users\\Gopal\\Anaconda3\\lib\\site-packages\\ipykernel_launcher.py:36: RuntimeWarning: invalid value encountered in multiply\n"
     ]
    }
   ],
   "source": [
    "nn = NeuralNetLogReg([12,12,2])\n",
    "nn.train(sc.fit_transform(XTrain), T,optim='scg') \n",
    "p,l = nn.use(sc.fit_transform(XTest))"
   ]
  },
  {
   "cell_type": "code",
   "execution_count": 334,
   "metadata": {},
   "outputs": [
    {
     "name": "stdout",
     "output_type": "stream",
     "text": [
      "F1 score: 0.9029001074113856\n",
      "Accuracy: 0.8501574672633847\n"
     ]
    }
   ],
   "source": [
    "y_pred1=l\n",
    "y_test1=np.where(YTest==-1,0,1)\n",
    "print('F1 score:', f1_score(y_test1, y_pred1))\n",
    "print('Accuracy:', accuracy_score(y_test1, y_pred1))"
   ]
  },
  {
   "cell_type": "markdown",
   "metadata": {},
   "source": [
    "## Discussions about parameter/network structure choice"
   ]
  },
  {
   "cell_type": "markdown",
   "metadata": {},
   "source": [
    "I have built a 5 layer neural network in this assignment. Input layer has 12 nodes as I have 12 features in my data. Output layer has 2 nodes.<br><br>\n",
    "I tried for the best network structure by changing the number of nodes in hidden layer. I performed 5 fold cross validation by passing my models variable as [[12,5,2], [12,7,2],[12,9,2], [12,12,2]]. Here first value represents input nodes, second value represents nodes in hidden layer, third value represents output nodes. \n",
    "From the results of cross validation we can see that model [12,12,2] has appeared more number of times. The f1 score values returned for [12,12,2] in the final result are [0.8675483214649033, 0.8746613146011039, 0.8640747737894006, 0.8769574944071589].<br><br>\n",
    "The model with number of nodes in hidden layer 12 works better. With increasing layer the model keeps on improving With more number of nodes in hidden layer network its overfitting the data."
   ]
  },
  {
   "cell_type": "markdown",
   "metadata": {},
   "source": [
    "## Discussion about the Prediction Results"
   ]
  },
  {
   "cell_type": "markdown",
   "metadata": {},
   "source": [
    "I have performed nonlinear logistic regression analysis using Neural network which is nonlinear regression problem. On training the model using NeuralNetLogReg with optimum structure [12,12,2], model has produced F1 score: 0.9067961165048544 and Accuracy: 0.8567876678269518 with optim=\"scg.\"<br><br>\n",
    "We can choose hidden layers, hidden nodes that suits our problem. Each node is connected to a activation function which makes the network more powerful. I used softmax as activation function at last layer. The gradient is updating the weights in each layer during back propagation which made network work so well.<br><br>\n",
    "I tried with 12 layers and I got 0.8567876678269518 as accuracy. The model is behaving well for increasing number of layers. This means that with more layers the model will give more accuracy."
   ]
  },
  {
   "cell_type": "markdown",
   "metadata": {},
   "source": [
    "# Conclusions\n",
    "\n",
    "I got a great opportunity to learn Neural Network by completing this assignment. I learned how to implement K-fold Cross Validation without using any libraries. I learnt how important it is to preprocess the data before implementing it.<br>\n",
    "Cross validation was really tough to implement. I faced many problems on keeping tracks of all the list used inside the cross validations also keeping track of all the indices took a lot of time to understand and implement."
   ]
  },
  {
   "cell_type": "markdown",
   "metadata": {},
   "source": [
    "## References"
   ]
  },
  {
   "cell_type": "markdown",
   "metadata": {},
   "source": [
    "Professor's notebook : https://nbviewer.jupyter.org/url/webpages.uncc.edu/mlee173/teach/itcs6156/notebooks/notes/Note-NonlinearLogReg.ipynb"
   ]
  },
  {
   "cell_type": "markdown",
   "metadata": {},
   "source": [
    "# Extra Credit\n",
    "\n",
    "Now you are testing various **activation functions** in this section. Use the best neural network structure and explore 3 different activation functions of your choice (one should be *tanh* that you used in the previous sections). \n",
    "You should use cross validation to discover the best model (with activation function). \n",
    "\n",
    "\n",
    "One extra credit is assigned when you finish the work completely. \n"
   ]
  },
  {
   "cell_type": "markdown",
   "metadata": {},
   "source": [
    "# How to start?\n",
    "\n",
    "* Download [a3.tgz](http://webpages.uncc.edu/mlee173/teach/itcs6156/notebooks/assign/a3.tgz). \n",
    "* Unzip the python files to current working directory.\n",
    "* Import the necessary classes or functions including NeuralNet."
   ]
  },
  {
   "cell_type": "markdown",
   "metadata": {},
   "source": [
    "## Grading\n",
    "\n",
    "DO NOT forget to submit your data! Your notebook is supposed to run fine after running your codes. \n",
    "\n",
    "** Note: this is a WRITING assignment. Proper writing is REQUIRED. Comments are not considered as writing. ** \n",
    "\n",
    "\n",
    "points | | description\n",
    "--|--|:--\n",
    "5 | Overview| states the objective and the appraoch \n",
    "10 | Data | \n",
    " | 2| Includes description of your data\n",
    " | 3| Plots to visualize data \n",
    " | 5| Reading and analyzing the plots \n",
    "40 | Methods | \n",
    " | 10| Summary of CV & correctness of implementation\n",
    " | 5| Summary of nonlinear regression \n",
    " | 5| Explanation of codes\n",
    " | 5| Summary of nonlinear logistic regression \n",
    " | 5| Explanation of codes\n",
    " |10| Examination of correct implementation (NonlinearLogReg) with toy data.\n",
    "40 | Results | Your Data\n",
    "| 10| Presentaion of CV results\n",
    "| 10| Discussions about parameter/network structure choice \n",
    "| 10| plots for results\n",
    "| 10| Discussion about the prediction results. Try to analyze what nonlinear regression model learned. \n",
    "5 | Conclusions \n"
   ]
  }
 ],
 "metadata": {
  "kernelspec": {
   "display_name": "Python 3",
   "language": "python",
   "name": "python3"
  },
  "language_info": {
   "codemirror_mode": {
    "name": "ipython",
    "version": 3
   },
   "file_extension": ".py",
   "mimetype": "text/x-python",
   "name": "python",
   "nbconvert_exporter": "python",
   "pygments_lexer": "ipython3",
   "version": "3.7.3"
  }
 },
 "nbformat": 4,
 "nbformat_minor": 2
}
